{
 "cells": [
  {
   "cell_type": "markdown",
   "metadata": {},
   "source": [
    "## Векторная модель текста в NLTK\n",
    "### Задание 1\n",
    "Возьмем файл alice.txt с прошлого семинара. Мы уже научились разбивать его на токены и удалять стоп-слова.\n",
    "Используя nltk.FreqDist, выведите 20 самых часто встречающихся слов в тексте (не удаляя стоп символы).\n",
    "\n",
    "Ответьте на вопросы:\n",
    "\n",
    "    Какое слово стоит на 1 месте?\n",
    "    Сколько раз встречается слово, стоящее на 20 месте?\n",
    "    Сколько не стоп-слов среди первых десяти?\n",
    "    Сколько раз встречается слово \"крокет\"? (понятно, что оно не входит в top20)\n"
   ]
  },
  {
   "cell_type": "code",
   "execution_count": 1,
   "metadata": {},
   "outputs": [],
   "source": [
    "s = \"\"\n",
    "with open(\"alice.txt\") as infile:\n",
    "    for line in infile:\n",
    "        s += line.strip() + ' '\n",
    "from nltk.corpus import stopwords\n",
    "from string import punctuation\n",
    "# noise = set(stopwords.words('russian') + list(punctuation) + [\"–\", \"»\", \"«\"])\n",
    "from nltk.tokenize import word_tokenize\n",
    "tokenized = word_tokenize(s)"
   ]
  },
  {
   "cell_type": "code",
   "execution_count": 2,
   "metadata": {},
   "outputs": [
    {
     "data": {
      "text/plain": [
       "[(',', 3381),\n",
       " ('-', 1953),\n",
       " ('.', 1120),\n",
       " ('!', 1023),\n",
       " ('и', 1021),\n",
       " ('не', 700),\n",
       " ('в', 490),\n",
       " ('что', 446),\n",
       " ('она', 372),\n",
       " ('?', 365),\n",
       " ('алиса', 363),\n",
       " ('на', 362),\n",
       " ('я', 341),\n",
       " ('а', 301),\n",
       " ('как', 275),\n",
       " (':', 268),\n",
       " ('это', 261),\n",
       " ('с', 231),\n",
       " ('все', 218),\n",
       " ('так', 206)]"
      ]
     },
     "execution_count": 2,
     "metadata": {},
     "output_type": "execute_result"
    }
   ],
   "source": [
    "l1 = list(map(lambda x: x.lower(), tokenized))\n",
    "import nltk\n",
    "\n",
    "d1 = nltk.FreqDist(l1)\n",
    "d1.most_common(20)"
   ]
  },
  {
   "cell_type": "code",
   "execution_count": 3,
   "metadata": {},
   "outputs": [
    {
     "name": "stdout",
     "output_type": "stream",
     "text": [
      "В1. Какое слово стоит на 1 месте? Ответ: ,\n"
     ]
    }
   ],
   "source": [
    "# 1. \n",
    "print(\"В1. Какое слово стоит на 1 месте? Ответ:\", d1.most_common(100)[0][0])"
   ]
  },
  {
   "cell_type": "code",
   "execution_count": 4,
   "metadata": {},
   "outputs": [
    {
     "name": "stdout",
     "output_type": "stream",
     "text": [
      "В2. Сколько раз встречается слово, стоящее на 20 месте? Ответ: 206\n"
     ]
    }
   ],
   "source": [
    "# 2. \n",
    "print(\"В2. Сколько раз встречается слово, стоящее на 20 месте? Ответ:\", d1.most_common(100)[19][1])"
   ]
  },
  {
   "cell_type": "code",
   "execution_count": 5,
   "metadata": {},
   "outputs": [
    {
     "name": "stdout",
     "output_type": "stream",
     "text": [
      "Топ 10 слов:\n",
      " [',', '-', '.', '!', 'и', 'не', 'в', 'что', 'она', '?']\n",
      "Топ 10 слов, без стоп слов:\n",
      " [',', '-', '.', '!', '?']\n",
      "\n",
      "В3. Сколько не стоп-слов среди первых десяти? Ответ: 5\n"
     ]
    }
   ],
   "source": [
    "# 3. \n",
    "top10 = [word[0] for word in d1.most_common(10)]\n",
    "print(\"Топ 10 слов:\\n\", top10)\n",
    "top10without_stop_words = [word for word in top10 if word not in stopwords.words('russian')]\n",
    "print(\"Топ 10 слов, без стоп слов:\\n\", top10without_stop_words)\n",
    "print(\"\\nВ3. Сколько не стоп-слов среди первых десяти? Ответ:\", len(top10without_stop_words))"
   ]
  },
  {
   "cell_type": "code",
   "execution_count": 6,
   "metadata": {},
   "outputs": [
    {
     "name": "stdout",
     "output_type": "stream",
     "text": [
      "В4. Сколько раз встречается слово 'крокет'? Ответ: 9\n"
     ]
    }
   ],
   "source": [
    "# 4. \n",
    "print(\"В4. Сколько раз встречается слово 'крокет'? Ответ:\", dict(d1)[\"крокет\"])"
   ]
  },
  {
   "cell_type": "markdown",
   "metadata": {},
   "source": [
    "### Задание 2\n",
    "Избавьтесь от стоп-слов с помощью списка stopwords из nltk.corpus. Используйте pymorphy2 или Mystem, чтобы привести слова к нормальной форме. Ответьте на вопросы:\n",
    "\n",
    "    Какое слово стоит на 1 месте?\n",
    "    Сколько раз встречается слово, стоящее на 20 месте?\n",
    "    Остались ли какие-то стоп-слова среди первых 10? 20?\n",
    "    Сколько раз встречается слово \"крокет\"? Почему результат изменился?\n"
   ]
  },
  {
   "cell_type": "code",
   "execution_count": 7,
   "metadata": {},
   "outputs": [
    {
     "data": {
      "text/plain": [
       "[(',', 3381),\n",
       " ('-', 1953),\n",
       " ('.', 1120),\n",
       " ('!', 1023),\n",
       " ('алиса', 420),\n",
       " ('?', 365),\n",
       " ('сказать', 313),\n",
       " ('это', 271),\n",
       " (':', 268),\n",
       " ('``', 200),\n",
       " (\"''\", 189),\n",
       " ('...', 182),\n",
       " (')', 113),\n",
       " ('(', 112),\n",
       " ('такой', 100),\n",
       " ('очень', 91),\n",
       " ('один', 87),\n",
       " (';', 83),\n",
       " ('свой', 76),\n",
       " ('слово', 74)]"
      ]
     },
     "execution_count": 7,
     "metadata": {},
     "output_type": "execute_result"
    }
   ],
   "source": [
    "import pymorphy2\n",
    "morph = pymorphy2.MorphAnalyzer()\n",
    "l3 = [morph.parse(token)[0].normal_form for token in l1 if not token in stopwords.words('russian')]\n",
    "d3 = nltk.FreqDist(l3)\n",
    "d3.most_common(20)"
   ]
  },
  {
   "cell_type": "markdown",
   "metadata": {},
   "source": [
    "Давайте пострим кумулятивный график частот слов. Как он выглядит и почему так? Попробуйте поменять количество слов, какие тенденции вы видите?\n"
   ]
  },
  {
   "cell_type": "code",
   "execution_count": 8,
   "metadata": {},
   "outputs": [
    {
     "name": "stdout",
     "output_type": "stream",
     "text": [
      "В1. Какое слово стоит на 1 месте? Ответ: ,\n"
     ]
    }
   ],
   "source": [
    "# 1. \n",
    "print(\"В1. Какое слово стоит на 1 месте? Ответ:\", d3.most_common(100)[0][0])"
   ]
  },
  {
   "cell_type": "code",
   "execution_count": 9,
   "metadata": {},
   "outputs": [
    {
     "name": "stdout",
     "output_type": "stream",
     "text": [
      "В2. Сколько раз встречается слово, стоящее на 20 месте? Ответ: 74\n"
     ]
    }
   ],
   "source": [
    "# 2. \n",
    "print(\"В2. Сколько раз встречается слово, стоящее на 20 месте? Ответ:\", d3.most_common(100)[19][1])"
   ]
  },
  {
   "cell_type": "code",
   "execution_count": 10,
   "metadata": {},
   "outputs": [
    {
     "name": "stdout",
     "output_type": "stream",
     "text": [
      "Оставшиеся стоп слова: ['такой', 'один']\n",
      "В3. Остались ли какие-то стоп-слова среди первых 10? 20? Ответ: Да\n"
     ]
    }
   ],
   "source": [
    "# 3. \n",
    "stop_inside = [word[0] for word in d3.most_common(20) if word[0] in stopwords.words('russian')]\n",
    "print(\"Оставшиеся стоп слова:\", stop_inside)\n",
    "print(\"В3. Остались ли какие-то стоп-слова среди первых 10? 20? Ответ:\", \"Да\" if len(stop_inside) else \"Нет\")"
   ]
  },
  {
   "cell_type": "code",
   "execution_count": 11,
   "metadata": {},
   "outputs": [
    {
     "name": "stdout",
     "output_type": "stream",
     "text": [
      "В4-1. Сколько раз встречается слово \"крокет\"? Ответ: 11\n",
      "В4-2. Почему результат изменился? Ответ: крокете -> крокет\n"
     ]
    }
   ],
   "source": [
    "# 4. \n",
    "for word in l1:\n",
    "    if word.find(\"крокет\") != -1 and word != \"крокет\" and morph.parse(word)[0].normal_form == \"крокет\":\n",
    "        answer = word + \" -> \" + morph.parse(word)[0].normal_form\n",
    "\n",
    "print('В4-1. Сколько раз встречается слово \"крокет\"? Ответ:', dict(d3)[\"крокет\"])\n",
    "print(\"В4-2. Почему результат изменился? Ответ:\", answer)"
   ]
  },
  {
   "cell_type": "code",
   "execution_count": 12,
   "metadata": {},
   "outputs": [
    {
     "data": {
      "text/plain": [
       "<Figure size 640x480 with 1 Axes>"
      ]
     },
     "metadata": {},
     "output_type": "display_data"
    }
   ],
   "source": [
    "d3.plot(30, cumulative = True)"
   ]
  },
  {
   "cell_type": "markdown",
   "metadata": {},
   "source": [
    "### Задание 3\n",
    "\n",
    "Найдите распределение длин слов в тексте, выведите top5 и ответьте на вопросы:\n",
    "\n",
    "    Сколько всего в данном тексте вариантов длин слов (вместе со стоп-словами)?\n",
    "    Слов какой длины в тексте больше всего?\n",
    "    Какую долю занимают слова этой длины?\n",
    "    Сколько слов длины 1?\n",
    "\n",
    "Выведите в алфавитном поредке длинные слова (длиннее 15 символов).\n",
    "\n",
    "    Сколько их?"
   ]
  },
  {
   "cell_type": "code",
   "execution_count": 13,
   "metadata": {},
   "outputs": [
    {
     "name": "stdout",
     "output_type": "stream",
     "text": [
      "<FreqDist with 21 samples and 35180 outcomes>\n",
      "[(1, 11103), (3, 4036), (5, 3573), (2, 3496), (6, 3119)]\n"
     ]
    }
   ],
   "source": [
    "fdist = nltk.FreqDist(len(w) for w in l1)  \n",
    "print(fdist)  \n",
    "print (fdist.most_common(5))"
   ]
  },
  {
   "cell_type": "code",
   "execution_count": 14,
   "metadata": {},
   "outputs": [
    {
     "name": "stdout",
     "output_type": "stream",
     "text": [
      "['-сказалагерцогиня.-фламинго', 'алиса-пожалуйста', 'воспользовавшись', 'воспользовавшись', 'деликате-е-есной', 'деликате-е-есной', 'докакого-нибудьберега-', 'душечка-дорогушечка', 'жизнерадостностью', 'заинтересовалась', 'заинтересовалась', 'заинтересованная', 'подобру-поздорову', 'полетела-полетела', 'полюбопытствовать', 'попрактиковаться', 'предусмотрительная', 'угова-а-а-а-ривают', 'честное-пречестное', 'швейцар-головастик', 'швейцар-головастик', 'шиворот-навыворот', 'энциклопедический']\n",
      "Сколько их? Ответ: 23\n"
     ]
    }
   ],
   "source": [
    "long_words = [w for w in l1 if len(w) > 15]\n",
    "print(sorted(long_words))\n",
    "print(\"Сколько их? Ответ:\", len(long_words))"
   ]
  },
  {
   "cell_type": "code",
   "execution_count": 15,
   "metadata": {},
   "outputs": [
    {
     "name": "stdout",
     "output_type": "stream",
     "text": [
      "Сколько всего в данном тексте вариантов длин слов (вместе со стоп-словами)? Ответ: 21\n"
     ]
    }
   ],
   "source": [
    "# 1.\n",
    "print(\"Сколько всего в данном тексте вариантов длин слов (вместе со стоп-словами)? Ответ:\", len(fdist))"
   ]
  },
  {
   "cell_type": "code",
   "execution_count": 16,
   "metadata": {},
   "outputs": [
    {
     "name": "stdout",
     "output_type": "stream",
     "text": [
      "Слов какой длины в тексте больше всего? Ответ: 1\n"
     ]
    }
   ],
   "source": [
    "# 2. \n",
    "sorted_by_length = sorted(fdist.most_common(None), key=lambda x: x[1], reverse=True)\n",
    "print(\"Слов какой длины в тексте больше всего? Ответ:\", sorted_by_length[0][0])"
   ]
  },
  {
   "cell_type": "code",
   "execution_count": 17,
   "metadata": {},
   "outputs": [
    {
     "name": "stdout",
     "output_type": "stream",
     "text": [
      "Какую долю занимают слова этой длины? Ответ: 0.32\n"
     ]
    }
   ],
   "source": [
    "# 3. \n",
    "answer = sorted_by_length[0][1] / (sum([_[1] for _ in sorted_by_length]))\n",
    "print(\"Какую долю занимают слова этой длины? Ответ:\", round(answer, 2))"
   ]
  },
  {
   "cell_type": "markdown",
   "metadata": {},
   "source": [
    "### Задание 4\n",
    "\n",
    "Превратите строку в NLTK-текст и проверьте, как работают спецфункции, на собственных примерах.\n"
   ]
  },
  {
   "cell_type": "code",
   "execution_count": 18,
   "metadata": {},
   "outputs": [
    {
     "name": "stdout",
     "output_type": "stream",
     "text": [
      "Displaying 25 of 172 matches:\n",
      ", у которого огромное чувство юмора - он может захохотать , когда никому друго\n",
      "идет улыбнуться . любимая его шутка ( он сам ее придумал ) такая : - андрюшень\n",
      "не улыбнется . а все дело в том , что он очень плохо знаком с повадками ихтиоз\n",
      "век . да и то неизвестно , сочинил бы он ее или нет , если бы не одна маленька\n",
      " знакомого , мистера доджсона , чтобы он рассказал ей и ее сестрам интересную \n",
      "ень уже сильно устал , - послушался . он начал рассказывать сказку о приключен\n",
      "выдумал ! ) , - прекрасно знала , что он вовсе не такой и все это неправда ! р\n",
      "ым такого необыкновенного выдумщика ! он выдумывал не только сказки - он выдум\n",
      "ика ! он выдумывал не только сказки - он выдумывал головоломки , загадки , игр\n",
      "из них играют и до сих пор . ( именно он придумал веселую игру , которая назыв\n",
      " , только не на уроках ! ) . особенно он любил и умел играть ... словами . сам\n",
      "ом , бог знает что выделывали ! и еще он умел переделывать старые , надоевшие \n",
      "я ( чарльз лютвидж , вы не забыли ? ) он переделывал до тех пор , пока оно не \n",
      "лыхала , что кролик сказал ( а сказал он : `` ай-ай-ай ! я опаздываю ! '' ) . \n",
      "ключик был слишком маленький , только он никак не хотел открывать ни одной две\n",
      "в замочную скважину - и , о радость , он как раз подошел ! алиса отворила двер\n",
      "азодетый в пух и прах , в одной лапке он вдобавок держал большущий веер , в др\n",
      "ой - пару лайковых бальных перчаток . он , видно , очень торопился и на ходу б\n",
      "образила , что во всем виноват веер - он по-прежнему был у нее в руках , - и п\n",
      "а сейчас маленькая , успокоилась ( `` он меня и не заметит '' , - подумала она\n",
      "длинная , шоколадная и вся вьется ! и он умеет подавать поноску , и служить , \n",
      "е не все помню ! его хозяин говорит , он бы с ним ни за какие тысячи не расста\n",
      " за какие тысячи не расстался - такой он умный и столько пользы приносит , он \n",
      " он умный и столько пользы приносит , он даже всех крыс переловил , не только \n",
      "ып-цып , и даже вымершая птица додо , он же ископаемый дронт . и кого там еще \n",
      "None\n",
      "********************************************************************************\n",
      "я это король того они она шляпа грифон алиса из и потому совсем вам\n",
      "вот как за такое шпионов индейцев\n",
      "None\n",
      "********************************************************************************\n",
      "что_очень\n",
      "None\n",
      "********************************************************************************\n",
      "сказала алиса; белый кролик; может быть; сказал король; сказала\n",
      "алиса.-; как раз; ваше величество; конце концов; все равно; самом\n",
      "деле; золотой ключик; чеширский кот; всяком случае; как вдруг;\n",
      "спросила алиса; первым делом; подумала алиса; отсюда мораль; любезный\n",
      "друг; потому что; тех пор; всех ног; морская свинка; честное слово;\n",
      "сию минуту; стране чудес; всех сил; школу собирайтесь; сказал шляпа;\n",
      "белого кролика\n",
      "None\n"
     ]
    }
   ],
   "source": [
    "text = nltk.Text(l1)\n",
    "# A concordance view shows us every occurrence of a given word, together with some context\n",
    "print (text.concordance(\"он\"))\n",
    "print(\"********\" * 10)\n",
    "# Using similar(token) returns a list of words that appear in the same context as token. \n",
    "# In this case the the context is just the words directly on either side of token.\n",
    "print (text.similar('он'))\n",
    "print(\"********\" * 10)\n",
    "# The term common_contexts allows us to examine just the contexts that are shared by two or more words\n",
    "print (text.common_contexts([\"алиса\", \"он\"]))\n",
    "print(\"********\" * 10)\n",
    "# A collocation is a sequence of words that occur together unusually often.\n",
    "print (text.collocations(30))"
   ]
  },
  {
   "cell_type": "markdown",
   "metadata": {},
   "source": [
    "## Эмбеддинги\n"
   ]
  },
  {
   "cell_type": "code",
   "execution_count": 19,
   "metadata": {},
   "outputs": [],
   "source": [
    "import pandas as pd\n",
    "import matplotlib.pyplot as plt\n",
    "import seaborn as sns\n",
    "import random\n",
    "import numpy as np\n",
    "from sklearn.metrics import *\n",
    "from sklearn.feature_extraction.text import *\n",
    "from sklearn.model_selection import train_test_split\n",
    "from collections import Counter, defaultdict\n",
    "import warnings\n",
    "warnings.filterwarnings('ignore')\n",
    "random.seed(1228)\n",
    "\n",
    "%matplotlib inline"
   ]
  },
  {
   "cell_type": "markdown",
   "metadata": {},
   "source": [
    "Скачиваем куски датасета твитов ([источник](http://study.mokoron.com/)): [положительные](https://www.dropbox.com/s/fnpq3z4bcnoktiv/positive.csv?dl=0), [отрицательные](https://www.dropbox.com/s/ilkte35m35l38mr/negative.sql)."
   ]
  },
  {
   "cell_type": "code",
   "execution_count": 20,
   "metadata": {},
   "outputs": [
    {
     "name": "stdout",
     "output_type": "stream",
     "text": [
      "--2019-06-02 03:57:00--  https://www.dropbox.com/s/fnpq3z4bcnoktiv/positive.csv?dl=0\n",
      "Распознаётся www.dropbox.com (www.dropbox.com)… 162.125.70.1\n",
      "Подключение к www.dropbox.com (www.dropbox.com)|162.125.70.1|:443... соединение установлено.\n",
      "HTTP-запрос отправлен. Ожидание ответа… 301 Moved Permanently\n",
      "Адрес: /s/raw/fnpq3z4bcnoktiv/positive.csv [переход]\n",
      "--2019-06-02 03:57:00--  https://www.dropbox.com/s/raw/fnpq3z4bcnoktiv/positive.csv\n",
      "Повторное использование соединения с www.dropbox.com:443.\n",
      "HTTP-запрос отправлен. Ожидание ответа… 302 Found\n",
      "Адрес: https://uc1871404bc042605e09953851da.dl.dropboxusercontent.com/cd/0/inline/AiC3mGGbeCPEHsaXYN2H1nTfOxVx6Qr4kib_DQ9BC2DRENoprPFlesyQWHlivefxr_zthb8RsRwXQzDeWQGUtS0VQrQ7SCnCkloP-Y04ZeQzuA/file# [переход]\n",
      "--2019-06-02 03:57:00--  https://uc1871404bc042605e09953851da.dl.dropboxusercontent.com/cd/0/inline/AiC3mGGbeCPEHsaXYN2H1nTfOxVx6Qr4kib_DQ9BC2DRENoprPFlesyQWHlivefxr_zthb8RsRwXQzDeWQGUtS0VQrQ7SCnCkloP-Y04ZeQzuA/file\n",
      "Распознаётся uc1871404bc042605e09953851da.dl.dropboxusercontent.com (uc1871404bc042605e09953851da.dl.dropboxusercontent.com)… 162.125.70.6\n",
      "Подключение к uc1871404bc042605e09953851da.dl.dropboxusercontent.com (uc1871404bc042605e09953851da.dl.dropboxusercontent.com)|162.125.70.6|:443... соединение установлено.\n",
      "HTTP-запрос отправлен. Ожидание ответа… 200 OK\n",
      "Длина: 26233379 (25M) [text/plain]\n",
      "Сохранение в: «positive.csv?dl=0.3»\n",
      "\n",
      "positive.csv?dl=0.3 100%[===================>]  25,02M  4,19MB/s    за 5,6s    \n",
      "\n",
      "2019-06-02 03:57:07 (4,49 MB/s) - «positive.csv?dl=0.3» сохранён [26233379/26233379]\n",
      "\n"
     ]
    }
   ],
   "source": [
    "!wget https://www.dropbox.com/s/fnpq3z4bcnoktiv/positive.csv?dl=0"
   ]
  },
  {
   "cell_type": "code",
   "execution_count": 21,
   "metadata": {},
   "outputs": [
    {
     "name": "stdout",
     "output_type": "stream",
     "text": [
      "--2019-06-02 03:57:08--  https://www.dropbox.com/s/r6u59ljhhjdg6j0/negative.csv?dl=0\n",
      "Распознаётся www.dropbox.com (www.dropbox.com)… 162.125.70.1\n",
      "Подключение к www.dropbox.com (www.dropbox.com)|162.125.70.1|:443... соединение установлено.\n",
      "HTTP-запрос отправлен. Ожидание ответа… 301 Moved Permanently\n",
      "Адрес: /s/raw/r6u59ljhhjdg6j0/negative.csv [переход]\n",
      "--2019-06-02 03:57:08--  https://www.dropbox.com/s/raw/r6u59ljhhjdg6j0/negative.csv\n",
      "Повторное использование соединения с www.dropbox.com:443.\n",
      "HTTP-запрос отправлен. Ожидание ответа… 302 Found\n",
      "Адрес: https://uc268cf4b6e7c02331a8d6970671.dl.dropboxusercontent.com/cd/0/inline/AiAfqHk5Mw98nJAfnKb10j7MlC2xc8YKhK5hNW-Wp_cor0_h4QOvqwOmUI8_xV3atfMXXO3IoIk1h-x553_LQNvfcND1f1DC9EoHmGY0D1eMCg/file# [переход]\n",
      "--2019-06-02 03:57:08--  https://uc268cf4b6e7c02331a8d6970671.dl.dropboxusercontent.com/cd/0/inline/AiAfqHk5Mw98nJAfnKb10j7MlC2xc8YKhK5hNW-Wp_cor0_h4QOvqwOmUI8_xV3atfMXXO3IoIk1h-x553_LQNvfcND1f1DC9EoHmGY0D1eMCg/file\n",
      "Распознаётся uc268cf4b6e7c02331a8d6970671.dl.dropboxusercontent.com (uc268cf4b6e7c02331a8d6970671.dl.dropboxusercontent.com)… 162.125.70.6\n",
      "Подключение к uc268cf4b6e7c02331a8d6970671.dl.dropboxusercontent.com (uc268cf4b6e7c02331a8d6970671.dl.dropboxusercontent.com)|162.125.70.6|:443... соединение установлено.\n",
      "HTTP-запрос отправлен. Ожидание ответа… 200 OK\n",
      "Длина: 24450101 (23M) [text/plain]\n",
      "Сохранение в: «negative.csv?dl=0.3»\n",
      "\n",
      "negative.csv?dl=0.3 100%[===================>]  23,32M  4,59MB/s    за 4,7s    \n",
      "\n",
      "2019-06-02 03:57:14 (5,00 MB/s) - «negative.csv?dl=0.3» сохранён [24450101/24450101]\n",
      "\n"
     ]
    }
   ],
   "source": [
    "!wget https://www.dropbox.com/s/r6u59ljhhjdg6j0/negative.csv?dl=0"
   ]
  },
  {
   "cell_type": "markdown",
   "metadata": {},
   "source": [
    "Загружаем лемматизированные статьи без стоп-слов и создаем массив текстов"
   ]
  },
  {
   "cell_type": "code",
   "execution_count": 22,
   "metadata": {},
   "outputs": [],
   "source": [
    "from pymystem3 import Mystem\n",
    "import re\n",
    "\n",
    "\n",
    "m = Mystem()\n",
    "\n",
    "\n",
    "regex = re.compile(\"[А-Яа-я:=!\\)\\()A-z\\_\\%/|]+\")\n",
    "\n",
    "def words_only(text, regex=regex):\n",
    "    try:\n",
    "        return \" \".join(regex.findall(text))\n",
    "    except:\n",
    "        return \"\"\n",
    "\n",
    "\n",
    "\n",
    "def lemmatize(text, mystem=m):\n",
    "    try:\n",
    "        return \"\".join(m.lemmatize(text)).strip()  \n",
    "    except:\n",
    "        return \" \""
   ]
  },
  {
   "cell_type": "code",
   "execution_count": 23,
   "metadata": {},
   "outputs": [
    {
     "name": "stdout",
     "output_type": "stream",
     "text": [
      "CPU times: user 1.7 s, sys: 101 ms, total: 1.8 s\n",
      "Wall time: 1.9 s\n",
      "CPU times: user 32.4 s, sys: 4.8 s, total: 37.2 s\n",
      "Wall time: 4min 20s\n"
     ]
    }
   ],
   "source": [
    "df_neg = pd.read_csv(\"negative.csv?dl=0\", sep=';', header = None, usecols = [3])\n",
    "df_pos = pd.read_csv(\"positive.csv?dl=0\", sep=';', header = None, usecols = [3])\n",
    "df_neg['sent'] = 'neg'\n",
    "df_pos['sent'] = 'pos'\n",
    "df_pos['text'] = df_pos[3]\n",
    "df_neg['text'] = df_neg[3]\n",
    "df = pd.concat([df_neg, df_pos])\n",
    "df = df[['text', 'sent']]\n",
    "%time df.text = df.text.apply(words_only)\n",
    "%time df.text = df.text.apply(lemmatize)"
   ]
  },
  {
   "cell_type": "code",
   "execution_count": 24,
   "metadata": {},
   "outputs": [
    {
     "name": "stdout",
     "output_type": "stream",
     "text": [
      "(226834, 2)\n"
     ]
    },
    {
     "data": {
      "text/html": [
       "<div>\n",
       "<style scoped>\n",
       "    .dataframe tbody tr th:only-of-type {\n",
       "        vertical-align: middle;\n",
       "    }\n",
       "\n",
       "    .dataframe tbody tr th {\n",
       "        vertical-align: top;\n",
       "    }\n",
       "\n",
       "    .dataframe thead th {\n",
       "        text-align: right;\n",
       "    }\n",
       "</style>\n",
       "<table border=\"1\" class=\"dataframe\">\n",
       "  <thead>\n",
       "    <tr style=\"text-align: right;\">\n",
       "      <th></th>\n",
       "      <th>text</th>\n",
       "      <th>sent</th>\n",
       "    </tr>\n",
       "  </thead>\n",
       "  <tbody>\n",
       "    <tr>\n",
       "      <th>0</th>\n",
       "      <td>на работа быть полный пиддеса :| и так каждый ...</td>\n",
       "      <td>neg</td>\n",
       "    </tr>\n",
       "    <tr>\n",
       "      <th>1</th>\n",
       "      <td>коллега сидеть рубиться в Urban terror а я из ...</td>\n",
       "      <td>neg</td>\n",
       "    </tr>\n",
       "    <tr>\n",
       "      <th>2</th>\n",
       "      <td>elina_ post как говорить обещаной три год ждат...</td>\n",
       "      <td>neg</td>\n",
       "    </tr>\n",
       "    <tr>\n",
       "      <th>3</th>\n",
       "      <td>желать хороший пол тот и удачный посадка я быт...</td>\n",
       "      <td>neg</td>\n",
       "    </tr>\n",
       "    <tr>\n",
       "      <th>4</th>\n",
       "      <td>обновлять за какой то леший surf теперь не раб...</td>\n",
       "      <td>neg</td>\n",
       "    </tr>\n",
       "  </tbody>\n",
       "</table>\n",
       "</div>"
      ],
      "text/plain": [
       "                                                text sent\n",
       "0  на работа быть полный пиддеса :| и так каждый ...  neg\n",
       "1  коллега сидеть рубиться в Urban terror а я из ...  neg\n",
       "2  elina_ post как говорить обещаной три год ждат...  neg\n",
       "3  желать хороший пол тот и удачный посадка я быт...  neg\n",
       "4  обновлять за какой то леший surf теперь не раб...  neg"
      ]
     },
     "execution_count": 24,
     "metadata": {},
     "output_type": "execute_result"
    }
   ],
   "source": [
    "print(df.shape)\n",
    "df.head()"
   ]
  },
  {
   "cell_type": "code",
   "execution_count": 25,
   "metadata": {},
   "outputs": [
    {
     "data": {
      "text/html": [
       "<div>\n",
       "<style scoped>\n",
       "    .dataframe tbody tr th:only-of-type {\n",
       "        vertical-align: middle;\n",
       "    }\n",
       "\n",
       "    .dataframe tbody tr th {\n",
       "        vertical-align: top;\n",
       "    }\n",
       "\n",
       "    .dataframe thead th {\n",
       "        text-align: right;\n",
       "    }\n",
       "</style>\n",
       "<table border=\"1\" class=\"dataframe\">\n",
       "  <thead>\n",
       "    <tr style=\"text-align: right;\">\n",
       "      <th></th>\n",
       "      <th>text</th>\n",
       "      <th>sent</th>\n",
       "    </tr>\n",
       "  </thead>\n",
       "  <tbody>\n",
       "    <tr>\n",
       "      <th>114906</th>\n",
       "      <td>спать в родительский дом на свой кровать просы...</td>\n",
       "      <td>pos</td>\n",
       "    </tr>\n",
       "    <tr>\n",
       "      <th>114907</th>\n",
       "      <td>RT jebesilofyt: эх мы немного решать сокращать...</td>\n",
       "      <td>pos</td>\n",
       "    </tr>\n",
       "    <tr>\n",
       "      <th>114908</th>\n",
       "      <td>что происходить со я когда в эфир proactivefm ...</td>\n",
       "      <td>pos</td>\n",
       "    </tr>\n",
       "    <tr>\n",
       "      <th>114909</th>\n",
       "      <td>любимый я подарить ты этот звезда имя какой зв...</td>\n",
       "      <td>pos</td>\n",
       "    </tr>\n",
       "    <tr>\n",
       "      <th>114910</th>\n",
       "      <td>Ma_che_rie посмотреть непытайтесьпокинутьомск ...</td>\n",
       "      <td>pos</td>\n",
       "    </tr>\n",
       "  </tbody>\n",
       "</table>\n",
       "</div>"
      ],
      "text/plain": [
       "                                                     text sent\n",
       "114906  спать в родительский дом на свой кровать просы...  pos\n",
       "114907  RT jebesilofyt: эх мы немного решать сокращать...  pos\n",
       "114908  что происходить со я когда в эфир proactivefm ...  pos\n",
       "114909  любимый я подарить ты этот звезда имя какой зв...  pos\n",
       "114910  Ma_che_rie посмотреть непытайтесьпокинутьомск ...  pos"
      ]
     },
     "execution_count": 25,
     "metadata": {},
     "output_type": "execute_result"
    }
   ],
   "source": [
    "df.tail()"
   ]
  },
  {
   "cell_type": "code",
   "execution_count": 26,
   "metadata": {},
   "outputs": [],
   "source": [
    "texts = [df.text.iloc[i].split() for i in range(len(df))]"
   ]
  },
  {
   "cell_type": "markdown",
   "metadata": {},
   "source": [
    "### Обучение модели в gensim"
   ]
  },
  {
   "cell_type": "code",
   "execution_count": 27,
   "metadata": {},
   "outputs": [
    {
     "data": {
      "text/plain": [
       "['на',\n",
       " 'работа',\n",
       " 'быть',\n",
       " 'полный',\n",
       " 'пиддеса',\n",
       " ':|',\n",
       " 'и',\n",
       " 'так',\n",
       " 'каждый',\n",
       " 'закрытие',\n",
       " 'месяц',\n",
       " 'я',\n",
       " 'же',\n",
       " 'свихиваться',\n",
       " 'так',\n",
       " 'D:']"
      ]
     },
     "execution_count": 27,
     "metadata": {},
     "output_type": "execute_result"
    }
   ],
   "source": [
    "texts[0]"
   ]
  },
  {
   "cell_type": "code",
   "execution_count": 28,
   "metadata": {},
   "outputs": [
    {
     "name": "stdout",
     "output_type": "stream",
     "text": [
      "Requirement already up-to-date: gensim in /Library/Frameworks/Python.framework/Versions/3.6/lib/python3.6/site-packages (3.7.3)\n",
      "Requirement already satisfied, skipping upgrade: six>=1.5.0 in /Library/Frameworks/Python.framework/Versions/3.6/lib/python3.6/site-packages (from gensim) (1.12.0)\n",
      "Requirement already satisfied, skipping upgrade: smart-open>=1.7.0 in /Library/Frameworks/Python.framework/Versions/3.6/lib/python3.6/site-packages (from gensim) (1.8.3)\n",
      "Requirement already satisfied, skipping upgrade: numpy>=1.11.3 in /Library/Frameworks/Python.framework/Versions/3.6/lib/python3.6/site-packages (from gensim) (1.16.2)\n",
      "Requirement already satisfied, skipping upgrade: scipy>=0.18.1 in /Library/Frameworks/Python.framework/Versions/3.6/lib/python3.6/site-packages (from gensim) (1.2.1)\n",
      "Requirement already satisfied, skipping upgrade: requests in /Library/Frameworks/Python.framework/Versions/3.6/lib/python3.6/site-packages (from smart-open>=1.7.0->gensim) (2.21.0)\n",
      "Requirement already satisfied, skipping upgrade: boto3 in /Library/Frameworks/Python.framework/Versions/3.6/lib/python3.6/site-packages (from smart-open>=1.7.0->gensim) (1.9.159)\n",
      "Requirement already satisfied, skipping upgrade: boto>=2.32 in /Library/Frameworks/Python.framework/Versions/3.6/lib/python3.6/site-packages (from smart-open>=1.7.0->gensim) (2.49.0)\n",
      "Requirement already satisfied, skipping upgrade: chardet<3.1.0,>=3.0.2 in /Library/Frameworks/Python.framework/Versions/3.6/lib/python3.6/site-packages (from requests->smart-open>=1.7.0->gensim) (3.0.4)\n",
      "Requirement already satisfied, skipping upgrade: idna<2.9,>=2.5 in /Library/Frameworks/Python.framework/Versions/3.6/lib/python3.6/site-packages (from requests->smart-open>=1.7.0->gensim) (2.8)\n",
      "Requirement already satisfied, skipping upgrade: certifi>=2017.4.17 in /Library/Frameworks/Python.framework/Versions/3.6/lib/python3.6/site-packages (from requests->smart-open>=1.7.0->gensim) (2019.3.9)\n",
      "Requirement already satisfied, skipping upgrade: urllib3<1.25,>=1.21.1 in /Library/Frameworks/Python.framework/Versions/3.6/lib/python3.6/site-packages (from requests->smart-open>=1.7.0->gensim) (1.24.1)\n",
      "Requirement already satisfied, skipping upgrade: botocore<1.13.0,>=1.12.159 in /Library/Frameworks/Python.framework/Versions/3.6/lib/python3.6/site-packages (from boto3->smart-open>=1.7.0->gensim) (1.12.159)\n",
      "Requirement already satisfied, skipping upgrade: jmespath<1.0.0,>=0.7.1 in /Library/Frameworks/Python.framework/Versions/3.6/lib/python3.6/site-packages (from boto3->smart-open>=1.7.0->gensim) (0.9.4)\n",
      "Requirement already satisfied, skipping upgrade: s3transfer<0.3.0,>=0.2.0 in /Library/Frameworks/Python.framework/Versions/3.6/lib/python3.6/site-packages (from boto3->smart-open>=1.7.0->gensim) (0.2.0)\n",
      "Requirement already satisfied, skipping upgrade: python-dateutil<3.0.0,>=2.1; python_version >= \"2.7\" in /Library/Frameworks/Python.framework/Versions/3.6/lib/python3.6/site-packages (from botocore<1.13.0,>=1.12.159->boto3->smart-open>=1.7.0->gensim) (2.8.0)\n",
      "Requirement already satisfied, skipping upgrade: docutils>=0.10 in /Library/Frameworks/Python.framework/Versions/3.6/lib/python3.6/site-packages (from botocore<1.13.0,>=1.12.159->boto3->smart-open>=1.7.0->gensim) (0.14)\n"
     ]
    }
   ],
   "source": [
    "!pip3 install -U gensim"
   ]
  },
  {
   "cell_type": "code",
   "execution_count": 29,
   "metadata": {},
   "outputs": [],
   "source": [
    "# %%time\n",
    "from gensim.models import Word2Vec\n",
    "model = Word2Vec(texts, size=100, window=5, min_count=5, workers=4)\n",
    "model.save(\"word2v.model\")"
   ]
  },
  {
   "cell_type": "code",
   "execution_count": 30,
   "metadata": {},
   "outputs": [
    {
     "name": "stdout",
     "output_type": "stream",
     "text": [
      "Vocab(count:8163, index:44, sample_int:3782981101)\n"
     ]
    }
   ],
   "source": [
    "# здесь можно посмотреть все слова, к которым мы имеем вектора\n",
    "print(model.wv.vocab[\"она\"])"
   ]
  },
  {
   "cell_type": "markdown",
   "metadata": {},
   "source": [
    "Загружаем обученную модель (для скорости):"
   ]
  },
  {
   "cell_type": "code",
   "execution_count": 31,
   "metadata": {},
   "outputs": [],
   "source": [
    "from gensim.models import Word2Vec\n",
    "model = Word2Vec.load(\"word2v.model\")"
   ]
  },
  {
   "cell_type": "markdown",
   "metadata": {},
   "source": [
    "Теперь можно воспользjваться функциями поиска похожих / непохожих слов на данное\n",
    "\n",
    "    model.most_similar\n",
    "    model.doesnt_match\n",
    "    etc"
   ]
  },
  {
   "cell_type": "code",
   "execution_count": 32,
   "metadata": {},
   "outputs": [
    {
     "data": {
      "text/plain": [
       "[('вечеринка', 0.8914819955825806),\n",
       " ('утренник', 0.8632736802101135),\n",
       " ('ярмарка', 0.8535420894622803),\n",
       " ('крещение', 0.8374761343002319),\n",
       " ('прокатиться', 0.8368072509765625),\n",
       " ('мероприятие', 0.8318315744400024),\n",
       " ('ватрушка', 0.8264192938804626),\n",
       " ('стадион', 0.8261997699737549),\n",
       " ('учеба(', 0.8238264322280884),\n",
       " ('сеанс', 0.8210698366165161)]"
      ]
     },
     "execution_count": 32,
     "metadata": {},
     "output_type": "execute_result"
    }
   ],
   "source": [
    "model.most_similar(\"корпоратив\")"
   ]
  },
  {
   "cell_type": "code",
   "execution_count": 33,
   "metadata": {},
   "outputs": [
    {
     "data": {
      "text/plain": [
       "[('пух(', 0.25421956181526184),\n",
       " ('смайлик', 0.23566216230392456),\n",
       " ('друг', 0.2343878597021103),\n",
       " ('дремать', 0.20421189069747925),\n",
       " ('шредингер', 0.19846394658088684),\n",
       " ('список', 0.18191303312778473),\n",
       " ('обертываться)', 0.1805555820465088),\n",
       " ('земля', 0.1799345761537552),\n",
       " ('онлайн', 0.17918598651885986),\n",
       " ('каркас', 0.1766592562198639)]"
      ]
     },
     "execution_count": 33,
     "metadata": {},
     "output_type": "execute_result"
    }
   ],
   "source": [
    "model.most_similar(positive=[\"он\"], negative=[\"она\"])"
   ]
  },
  {
   "cell_type": "code",
   "execution_count": 34,
   "metadata": {},
   "outputs": [
    {
     "data": {
      "text/plain": [
       "'охотник'"
      ]
     },
     "execution_count": 34,
     "metadata": {},
     "output_type": "execute_result"
    }
   ],
   "source": [
    "model.doesnt_match(\"каждый охотник желает знать где сидит фазан\".split())"
   ]
  },
  {
   "cell_type": "markdown",
   "metadata": {},
   "source": [
    "### Задание 5\n",
    "Выделите top 100 самых частотных слов и получите для них только что обученные вектора"
   ]
  },
  {
   "cell_type": "code",
   "execution_count": 35,
   "metadata": {},
   "outputs": [],
   "source": [
    "from nltk import FreqDist\n",
    "all_words = []\n",
    "for sentence in texts[:5]:\n",
    "    for word in sentence:\n",
    "        all_words.append(word)\n",
    "fd = FreqDist(all_words)\n"
   ]
  },
  {
   "cell_type": "code",
   "execution_count": 36,
   "metadata": {},
   "outputs": [
    {
     "data": {
      "text/plain": [
       "array([ 0.02764489, -0.46408352,  0.1661023 ,  0.3548573 , -1.1975195 ,\n",
       "        0.43120503, -0.02428051, -0.7704628 ,  0.49732655,  0.12164111,\n",
       "        0.21260458,  0.70217586, -0.7501518 ,  0.40373653, -0.46268374,\n",
       "        0.32680786, -0.2119748 , -0.53435576, -0.18103185, -0.41628027,\n",
       "       -2.126985  ,  1.120849  ,  0.08717486,  0.10884415, -0.35158253,\n",
       "        0.8690765 ,  1.2472793 ,  0.65013164, -0.48475614, -0.8268243 ,\n",
       "       -0.6388401 ,  0.55683357, -0.09790166,  0.3550729 ,  0.40452406,\n",
       "        0.11531067,  0.5961858 ,  0.90190965,  0.42709297, -0.93534553,\n",
       "       -1.5865299 , -0.7586117 ,  1.3210104 ,  0.77238953,  0.48005065,\n",
       "       -0.53487754, -1.1517093 , -0.9830461 ,  0.6896778 ,  0.13353729,\n",
       "        0.5245123 ,  1.2440405 ,  0.8832618 ,  0.98653686,  0.10022873,\n",
       "       -0.8568464 ,  0.3725176 ,  0.5295048 ,  1.8680097 , -0.7733645 ,\n",
       "       -0.5751248 , -0.09019031, -0.53887445, -0.4589611 , -0.47470805,\n",
       "       -1.6745011 , -1.0949875 ,  0.20506357,  0.6036908 , -0.8062143 ,\n",
       "       -0.19564702, -0.20552078,  0.14712709,  0.8577939 ,  0.64323187,\n",
       "        0.2687287 ,  2.0669014 , -0.41675758,  0.10773023, -0.9965042 ,\n",
       "        0.4807796 , -0.1750353 , -0.27275616, -0.5821295 , -0.87183374,\n",
       "       -0.0757829 , -0.5359682 ,  0.4594663 ,  0.9536044 ,  0.01592532,\n",
       "       -0.09286181, -0.82007456, -0.30465782,  0.1709079 ,  2.110967  ,\n",
       "        0.38749006,  0.84382856,  0.13953263, -0.6209013 , -0.03662859],\n",
       "      dtype=float32)"
      ]
     },
     "execution_count": 36,
     "metadata": {},
     "output_type": "execute_result"
    }
   ],
   "source": [
    "model['рабочий']"
   ]
  },
  {
   "cell_type": "code",
   "execution_count": 37,
   "metadata": {},
   "outputs": [],
   "source": [
    "top_words_vec = []\n",
    "top_words = []\n",
    "for word, count in fd.most_common(200):\n",
    "    if word in model:\n",
    "        top_words_vec.append(model[word])\n",
    "        top_words.append(word)\n",
    "    if len(top_words_vec) == 100:\n",
    "        break"
   ]
  },
  {
   "cell_type": "markdown",
   "metadata": {},
   "source": [
    "Визуализируем вектора. Для этого воспользуемся методом снижения размерности t-sne"
   ]
  },
  {
   "cell_type": "code",
   "execution_count": 38,
   "metadata": {},
   "outputs": [],
   "source": [
    "from sklearn.manifold import TSNE\n",
    "tsne = TSNE(n_components=2, random_state=0)\n",
    "top_words_tsne = tsne.fit_transform(top_words_vec)"
   ]
  },
  {
   "cell_type": "code",
   "execution_count": 39,
   "metadata": {},
   "outputs": [
    {
     "data": {
      "text/html": [
       "\n",
       "    <div class=\"bk-root\">\n",
       "        <a href=\"https://bokeh.pydata.org\" target=\"_blank\" class=\"bk-logo bk-logo-small bk-logo-notebook\"></a>\n",
       "        <span id=\"1001\">Loading BokehJS ...</span>\n",
       "    </div>"
      ]
     },
     "metadata": {},
     "output_type": "display_data"
    },
    {
     "data": {
      "application/javascript": [
       "\n",
       "(function(root) {\n",
       "  function now() {\n",
       "    return new Date();\n",
       "  }\n",
       "\n",
       "  var force = true;\n",
       "\n",
       "  if (typeof root._bokeh_onload_callbacks === \"undefined\" || force === true) {\n",
       "    root._bokeh_onload_callbacks = [];\n",
       "    root._bokeh_is_loading = undefined;\n",
       "  }\n",
       "\n",
       "  var JS_MIME_TYPE = 'application/javascript';\n",
       "  var HTML_MIME_TYPE = 'text/html';\n",
       "  var EXEC_MIME_TYPE = 'application/vnd.bokehjs_exec.v0+json';\n",
       "  var CLASS_NAME = 'output_bokeh rendered_html';\n",
       "\n",
       "  /**\n",
       "   * Render data to the DOM node\n",
       "   */\n",
       "  function render(props, node) {\n",
       "    var script = document.createElement(\"script\");\n",
       "    node.appendChild(script);\n",
       "  }\n",
       "\n",
       "  /**\n",
       "   * Handle when an output is cleared or removed\n",
       "   */\n",
       "  function handleClearOutput(event, handle) {\n",
       "    var cell = handle.cell;\n",
       "\n",
       "    var id = cell.output_area._bokeh_element_id;\n",
       "    var server_id = cell.output_area._bokeh_server_id;\n",
       "    // Clean up Bokeh references\n",
       "    if (id != null && id in Bokeh.index) {\n",
       "      Bokeh.index[id].model.document.clear();\n",
       "      delete Bokeh.index[id];\n",
       "    }\n",
       "\n",
       "    if (server_id !== undefined) {\n",
       "      // Clean up Bokeh references\n",
       "      var cmd = \"from bokeh.io.state import curstate; print(curstate().uuid_to_server['\" + server_id + \"'].get_sessions()[0].document.roots[0]._id)\";\n",
       "      cell.notebook.kernel.execute(cmd, {\n",
       "        iopub: {\n",
       "          output: function(msg) {\n",
       "            var id = msg.content.text.trim();\n",
       "            if (id in Bokeh.index) {\n",
       "              Bokeh.index[id].model.document.clear();\n",
       "              delete Bokeh.index[id];\n",
       "            }\n",
       "          }\n",
       "        }\n",
       "      });\n",
       "      // Destroy server and session\n",
       "      var cmd = \"import bokeh.io.notebook as ion; ion.destroy_server('\" + server_id + \"')\";\n",
       "      cell.notebook.kernel.execute(cmd);\n",
       "    }\n",
       "  }\n",
       "\n",
       "  /**\n",
       "   * Handle when a new output is added\n",
       "   */\n",
       "  function handleAddOutput(event, handle) {\n",
       "    var output_area = handle.output_area;\n",
       "    var output = handle.output;\n",
       "\n",
       "    // limit handleAddOutput to display_data with EXEC_MIME_TYPE content only\n",
       "    if ((output.output_type != \"display_data\") || (!output.data.hasOwnProperty(EXEC_MIME_TYPE))) {\n",
       "      return\n",
       "    }\n",
       "\n",
       "    var toinsert = output_area.element.find(\".\" + CLASS_NAME.split(' ')[0]);\n",
       "\n",
       "    if (output.metadata[EXEC_MIME_TYPE][\"id\"] !== undefined) {\n",
       "      toinsert[toinsert.length - 1].firstChild.textContent = output.data[JS_MIME_TYPE];\n",
       "      // store reference to embed id on output_area\n",
       "      output_area._bokeh_element_id = output.metadata[EXEC_MIME_TYPE][\"id\"];\n",
       "    }\n",
       "    if (output.metadata[EXEC_MIME_TYPE][\"server_id\"] !== undefined) {\n",
       "      var bk_div = document.createElement(\"div\");\n",
       "      bk_div.innerHTML = output.data[HTML_MIME_TYPE];\n",
       "      var script_attrs = bk_div.children[0].attributes;\n",
       "      for (var i = 0; i < script_attrs.length; i++) {\n",
       "        toinsert[toinsert.length - 1].firstChild.setAttribute(script_attrs[i].name, script_attrs[i].value);\n",
       "      }\n",
       "      // store reference to server id on output_area\n",
       "      output_area._bokeh_server_id = output.metadata[EXEC_MIME_TYPE][\"server_id\"];\n",
       "    }\n",
       "  }\n",
       "\n",
       "  function register_renderer(events, OutputArea) {\n",
       "\n",
       "    function append_mime(data, metadata, element) {\n",
       "      // create a DOM node to render to\n",
       "      var toinsert = this.create_output_subarea(\n",
       "        metadata,\n",
       "        CLASS_NAME,\n",
       "        EXEC_MIME_TYPE\n",
       "      );\n",
       "      this.keyboard_manager.register_events(toinsert);\n",
       "      // Render to node\n",
       "      var props = {data: data, metadata: metadata[EXEC_MIME_TYPE]};\n",
       "      render(props, toinsert[toinsert.length - 1]);\n",
       "      element.append(toinsert);\n",
       "      return toinsert\n",
       "    }\n",
       "\n",
       "    /* Handle when an output is cleared or removed */\n",
       "    events.on('clear_output.CodeCell', handleClearOutput);\n",
       "    events.on('delete.Cell', handleClearOutput);\n",
       "\n",
       "    /* Handle when a new output is added */\n",
       "    events.on('output_added.OutputArea', handleAddOutput);\n",
       "\n",
       "    /**\n",
       "     * Register the mime type and append_mime function with output_area\n",
       "     */\n",
       "    OutputArea.prototype.register_mime_type(EXEC_MIME_TYPE, append_mime, {\n",
       "      /* Is output safe? */\n",
       "      safe: true,\n",
       "      /* Index of renderer in `output_area.display_order` */\n",
       "      index: 0\n",
       "    });\n",
       "  }\n",
       "\n",
       "  // register the mime type if in Jupyter Notebook environment and previously unregistered\n",
       "  if (root.Jupyter !== undefined) {\n",
       "    var events = require('base/js/events');\n",
       "    var OutputArea = require('notebook/js/outputarea').OutputArea;\n",
       "\n",
       "    if (OutputArea.prototype.mime_types().indexOf(EXEC_MIME_TYPE) == -1) {\n",
       "      register_renderer(events, OutputArea);\n",
       "    }\n",
       "  }\n",
       "\n",
       "  \n",
       "  if (typeof (root._bokeh_timeout) === \"undefined\" || force === true) {\n",
       "    root._bokeh_timeout = Date.now() + 5000;\n",
       "    root._bokeh_failed_load = false;\n",
       "  }\n",
       "\n",
       "  var NB_LOAD_WARNING = {'data': {'text/html':\n",
       "     \"<div style='background-color: #fdd'>\\n\"+\n",
       "     \"<p>\\n\"+\n",
       "     \"BokehJS does not appear to have successfully loaded. If loading BokehJS from CDN, this \\n\"+\n",
       "     \"may be due to a slow or bad network connection. Possible fixes:\\n\"+\n",
       "     \"</p>\\n\"+\n",
       "     \"<ul>\\n\"+\n",
       "     \"<li>re-rerun `output_notebook()` to attempt to load from CDN again, or</li>\\n\"+\n",
       "     \"<li>use INLINE resources instead, as so:</li>\\n\"+\n",
       "     \"</ul>\\n\"+\n",
       "     \"<code>\\n\"+\n",
       "     \"from bokeh.resources import INLINE\\n\"+\n",
       "     \"output_notebook(resources=INLINE)\\n\"+\n",
       "     \"</code>\\n\"+\n",
       "     \"</div>\"}};\n",
       "\n",
       "  function display_loaded() {\n",
       "    var el = document.getElementById(\"1001\");\n",
       "    if (el != null) {\n",
       "      el.textContent = \"BokehJS is loading...\";\n",
       "    }\n",
       "    if (root.Bokeh !== undefined) {\n",
       "      if (el != null) {\n",
       "        el.textContent = \"BokehJS \" + root.Bokeh.version + \" successfully loaded.\";\n",
       "      }\n",
       "    } else if (Date.now() < root._bokeh_timeout) {\n",
       "      setTimeout(display_loaded, 100)\n",
       "    }\n",
       "  }\n",
       "\n",
       "\n",
       "  function run_callbacks() {\n",
       "    try {\n",
       "      root._bokeh_onload_callbacks.forEach(function(callback) {\n",
       "        if (callback != null)\n",
       "          callback();\n",
       "      });\n",
       "    } finally {\n",
       "      delete root._bokeh_onload_callbacks\n",
       "    }\n",
       "    console.debug(\"Bokeh: all callbacks have finished\");\n",
       "  }\n",
       "\n",
       "  function load_libs(css_urls, js_urls, callback) {\n",
       "    if (css_urls == null) css_urls = [];\n",
       "    if (js_urls == null) js_urls = [];\n",
       "\n",
       "    root._bokeh_onload_callbacks.push(callback);\n",
       "    if (root._bokeh_is_loading > 0) {\n",
       "      console.debug(\"Bokeh: BokehJS is being loaded, scheduling callback at\", now());\n",
       "      return null;\n",
       "    }\n",
       "    if (js_urls == null || js_urls.length === 0) {\n",
       "      run_callbacks();\n",
       "      return null;\n",
       "    }\n",
       "    console.debug(\"Bokeh: BokehJS not loaded, scheduling load and callback at\", now());\n",
       "    root._bokeh_is_loading = css_urls.length + js_urls.length;\n",
       "\n",
       "    function on_load() {\n",
       "      root._bokeh_is_loading--;\n",
       "      if (root._bokeh_is_loading === 0) {\n",
       "        console.debug(\"Bokeh: all BokehJS libraries/stylesheets loaded\");\n",
       "        run_callbacks()\n",
       "      }\n",
       "    }\n",
       "\n",
       "    function on_error() {\n",
       "      console.error(\"failed to load \" + url);\n",
       "    }\n",
       "\n",
       "    for (var i = 0; i < css_urls.length; i++) {\n",
       "      var url = css_urls[i];\n",
       "      const element = document.createElement(\"link\");\n",
       "      element.onload = on_load;\n",
       "      element.onerror = on_error;\n",
       "      element.rel = \"stylesheet\";\n",
       "      element.type = \"text/css\";\n",
       "      element.href = url;\n",
       "      console.debug(\"Bokeh: injecting link tag for BokehJS stylesheet: \", url);\n",
       "      document.body.appendChild(element);\n",
       "    }\n",
       "\n",
       "    for (var i = 0; i < js_urls.length; i++) {\n",
       "      var url = js_urls[i];\n",
       "      var element = document.createElement('script');\n",
       "      element.onload = on_load;\n",
       "      element.onerror = on_error;\n",
       "      element.async = false;\n",
       "      element.src = url;\n",
       "      console.debug(\"Bokeh: injecting script tag for BokehJS library: \", url);\n",
       "      document.head.appendChild(element);\n",
       "    }\n",
       "  };var element = document.getElementById(\"1001\");\n",
       "  if (element == null) {\n",
       "    console.error(\"Bokeh: ERROR: autoload.js configured with elementid '1001' but no matching script tag was found. \")\n",
       "    return false;\n",
       "  }\n",
       "\n",
       "  function inject_raw_css(css) {\n",
       "    const element = document.createElement(\"style\");\n",
       "    element.appendChild(document.createTextNode(css));\n",
       "    document.body.appendChild(element);\n",
       "  }\n",
       "\n",
       "  var js_urls = [\"https://cdn.pydata.org/bokeh/release/bokeh-1.2.0.min.js\", \"https://cdn.pydata.org/bokeh/release/bokeh-widgets-1.2.0.min.js\", \"https://cdn.pydata.org/bokeh/release/bokeh-tables-1.2.0.min.js\", \"https://cdn.pydata.org/bokeh/release/bokeh-gl-1.2.0.min.js\"];\n",
       "  var css_urls = [\"https://cdn.pydata.org/bokeh/release/bokeh-1.2.0.min.css\", \"https://cdn.pydata.org/bokeh/release/bokeh-widgets-1.2.0.min.css\", \"https://cdn.pydata.org/bokeh/release/bokeh-tables-1.2.0.min.css\"];\n",
       "\n",
       "  var inline_js = [\n",
       "    function(Bokeh) {\n",
       "      Bokeh.set_log_level(\"info\");\n",
       "    },\n",
       "    \n",
       "    function(Bokeh) {\n",
       "      \n",
       "    },\n",
       "    function(Bokeh) {} // ensure no trailing comma for IE\n",
       "  ];\n",
       "\n",
       "  function run_inline_js() {\n",
       "    \n",
       "    if ((root.Bokeh !== undefined) || (force === true)) {\n",
       "      for (var i = 0; i < inline_js.length; i++) {\n",
       "        inline_js[i].call(root, root.Bokeh);\n",
       "      }if (force === true) {\n",
       "        display_loaded();\n",
       "      }} else if (Date.now() < root._bokeh_timeout) {\n",
       "      setTimeout(run_inline_js, 100);\n",
       "    } else if (!root._bokeh_failed_load) {\n",
       "      console.log(\"Bokeh: BokehJS failed to load within specified timeout.\");\n",
       "      root._bokeh_failed_load = true;\n",
       "    } else if (force !== true) {\n",
       "      var cell = $(document.getElementById(\"1001\")).parents('.cell').data().cell;\n",
       "      cell.output_area.append_execute_result(NB_LOAD_WARNING)\n",
       "    }\n",
       "\n",
       "  }\n",
       "\n",
       "  if (root._bokeh_is_loading === 0) {\n",
       "    console.debug(\"Bokeh: BokehJS loaded, going straight to plotting\");\n",
       "    run_inline_js();\n",
       "  } else {\n",
       "    load_libs(css_urls, js_urls, function() {\n",
       "      console.debug(\"Bokeh: BokehJS plotting callback run at\", now());\n",
       "      run_inline_js();\n",
       "    });\n",
       "  }\n",
       "}(window));"
      ],
      "application/vnd.bokehjs_load.v0+json": "\n(function(root) {\n  function now() {\n    return new Date();\n  }\n\n  var force = true;\n\n  if (typeof root._bokeh_onload_callbacks === \"undefined\" || force === true) {\n    root._bokeh_onload_callbacks = [];\n    root._bokeh_is_loading = undefined;\n  }\n\n  \n\n  \n  if (typeof (root._bokeh_timeout) === \"undefined\" || force === true) {\n    root._bokeh_timeout = Date.now() + 5000;\n    root._bokeh_failed_load = false;\n  }\n\n  var NB_LOAD_WARNING = {'data': {'text/html':\n     \"<div style='background-color: #fdd'>\\n\"+\n     \"<p>\\n\"+\n     \"BokehJS does not appear to have successfully loaded. If loading BokehJS from CDN, this \\n\"+\n     \"may be due to a slow or bad network connection. Possible fixes:\\n\"+\n     \"</p>\\n\"+\n     \"<ul>\\n\"+\n     \"<li>re-rerun `output_notebook()` to attempt to load from CDN again, or</li>\\n\"+\n     \"<li>use INLINE resources instead, as so:</li>\\n\"+\n     \"</ul>\\n\"+\n     \"<code>\\n\"+\n     \"from bokeh.resources import INLINE\\n\"+\n     \"output_notebook(resources=INLINE)\\n\"+\n     \"</code>\\n\"+\n     \"</div>\"}};\n\n  function display_loaded() {\n    var el = document.getElementById(\"1001\");\n    if (el != null) {\n      el.textContent = \"BokehJS is loading...\";\n    }\n    if (root.Bokeh !== undefined) {\n      if (el != null) {\n        el.textContent = \"BokehJS \" + root.Bokeh.version + \" successfully loaded.\";\n      }\n    } else if (Date.now() < root._bokeh_timeout) {\n      setTimeout(display_loaded, 100)\n    }\n  }\n\n\n  function run_callbacks() {\n    try {\n      root._bokeh_onload_callbacks.forEach(function(callback) {\n        if (callback != null)\n          callback();\n      });\n    } finally {\n      delete root._bokeh_onload_callbacks\n    }\n    console.debug(\"Bokeh: all callbacks have finished\");\n  }\n\n  function load_libs(css_urls, js_urls, callback) {\n    if (css_urls == null) css_urls = [];\n    if (js_urls == null) js_urls = [];\n\n    root._bokeh_onload_callbacks.push(callback);\n    if (root._bokeh_is_loading > 0) {\n      console.debug(\"Bokeh: BokehJS is being loaded, scheduling callback at\", now());\n      return null;\n    }\n    if (js_urls == null || js_urls.length === 0) {\n      run_callbacks();\n      return null;\n    }\n    console.debug(\"Bokeh: BokehJS not loaded, scheduling load and callback at\", now());\n    root._bokeh_is_loading = css_urls.length + js_urls.length;\n\n    function on_load() {\n      root._bokeh_is_loading--;\n      if (root._bokeh_is_loading === 0) {\n        console.debug(\"Bokeh: all BokehJS libraries/stylesheets loaded\");\n        run_callbacks()\n      }\n    }\n\n    function on_error() {\n      console.error(\"failed to load \" + url);\n    }\n\n    for (var i = 0; i < css_urls.length; i++) {\n      var url = css_urls[i];\n      const element = document.createElement(\"link\");\n      element.onload = on_load;\n      element.onerror = on_error;\n      element.rel = \"stylesheet\";\n      element.type = \"text/css\";\n      element.href = url;\n      console.debug(\"Bokeh: injecting link tag for BokehJS stylesheet: \", url);\n      document.body.appendChild(element);\n    }\n\n    for (var i = 0; i < js_urls.length; i++) {\n      var url = js_urls[i];\n      var element = document.createElement('script');\n      element.onload = on_load;\n      element.onerror = on_error;\n      element.async = false;\n      element.src = url;\n      console.debug(\"Bokeh: injecting script tag for BokehJS library: \", url);\n      document.head.appendChild(element);\n    }\n  };var element = document.getElementById(\"1001\");\n  if (element == null) {\n    console.error(\"Bokeh: ERROR: autoload.js configured with elementid '1001' but no matching script tag was found. \")\n    return false;\n  }\n\n  function inject_raw_css(css) {\n    const element = document.createElement(\"style\");\n    element.appendChild(document.createTextNode(css));\n    document.body.appendChild(element);\n  }\n\n  var js_urls = [\"https://cdn.pydata.org/bokeh/release/bokeh-1.2.0.min.js\", \"https://cdn.pydata.org/bokeh/release/bokeh-widgets-1.2.0.min.js\", \"https://cdn.pydata.org/bokeh/release/bokeh-tables-1.2.0.min.js\", \"https://cdn.pydata.org/bokeh/release/bokeh-gl-1.2.0.min.js\"];\n  var css_urls = [\"https://cdn.pydata.org/bokeh/release/bokeh-1.2.0.min.css\", \"https://cdn.pydata.org/bokeh/release/bokeh-widgets-1.2.0.min.css\", \"https://cdn.pydata.org/bokeh/release/bokeh-tables-1.2.0.min.css\"];\n\n  var inline_js = [\n    function(Bokeh) {\n      Bokeh.set_log_level(\"info\");\n    },\n    \n    function(Bokeh) {\n      \n    },\n    function(Bokeh) {} // ensure no trailing comma for IE\n  ];\n\n  function run_inline_js() {\n    \n    if ((root.Bokeh !== undefined) || (force === true)) {\n      for (var i = 0; i < inline_js.length; i++) {\n        inline_js[i].call(root, root.Bokeh);\n      }if (force === true) {\n        display_loaded();\n      }} else if (Date.now() < root._bokeh_timeout) {\n      setTimeout(run_inline_js, 100);\n    } else if (!root._bokeh_failed_load) {\n      console.log(\"Bokeh: BokehJS failed to load within specified timeout.\");\n      root._bokeh_failed_load = true;\n    } else if (force !== true) {\n      var cell = $(document.getElementById(\"1001\")).parents('.cell').data().cell;\n      cell.output_area.append_execute_result(NB_LOAD_WARNING)\n    }\n\n  }\n\n  if (root._bokeh_is_loading === 0) {\n    console.debug(\"Bokeh: BokehJS loaded, going straight to plotting\");\n    run_inline_js();\n  } else {\n    load_libs(css_urls, js_urls, function() {\n      console.debug(\"Bokeh: BokehJS plotting callback run at\", now());\n      run_inline_js();\n    });\n  }\n}(window));"
     },
     "metadata": {},
     "output_type": "display_data"
    },
    {
     "data": {
      "text/html": [
       "\n",
       "\n",
       "\n",
       "\n",
       "\n",
       "\n",
       "  <div class=\"bk-root\" id=\"e42d0ebc-9292-4780-afbd-bdd0e188700d\" data-root-id=\"1002\"></div>\n"
      ]
     },
     "metadata": {},
     "output_type": "display_data"
    },
    {
     "data": {
      "application/javascript": [
       "(function(root) {\n",
       "  function embed_document(root) {\n",
       "    \n",
       "  var docs_json = {\"3ea39833-f06e-4393-92d4-48c51dd36d1b\":{\"roots\":{\"references\":[{\"attributes\":{\"below\":[{\"id\":\"1013\",\"type\":\"LinearAxis\"}],\"center\":[{\"id\":\"1017\",\"type\":\"Grid\"},{\"id\":\"1022\",\"type\":\"Grid\"},{\"id\":\"1038\",\"type\":\"LabelSet\"}],\"left\":[{\"id\":\"1018\",\"type\":\"LinearAxis\"}],\"renderers\":[{\"id\":\"1036\",\"type\":\"GlyphRenderer\"}],\"title\":{\"id\":\"1003\",\"type\":\"Title\"},\"toolbar\":{\"id\":\"1027\",\"type\":\"Toolbar\"},\"toolbar_location\":\"above\",\"x_range\":{\"id\":\"1005\",\"type\":\"DataRange1d\"},\"x_scale\":{\"id\":\"1009\",\"type\":\"LinearScale\"},\"y_range\":{\"id\":\"1007\",\"type\":\"DataRange1d\"},\"y_scale\":{\"id\":\"1011\",\"type\":\"LinearScale\"}},\"id\":\"1002\",\"subtype\":\"Figure\",\"type\":\"Plot\"},{\"attributes\":{},\"id\":\"1023\",\"type\":\"PanTool\"},{\"attributes\":{},\"id\":\"1024\",\"type\":\"WheelZoomTool\"},{\"attributes\":{},\"id\":\"1025\",\"type\":\"ResetTool\"},{\"attributes\":{\"fill_alpha\":{\"value\":0.1},\"fill_color\":{\"value\":\"#1f77b4\"},\"line_alpha\":{\"value\":0.1},\"line_color\":{\"value\":\"#1f77b4\"},\"size\":{\"units\":\"screen\",\"value\":8},\"x\":{\"field\":\"x1\"},\"y\":{\"field\":\"x2\"}},\"id\":\"1035\",\"type\":\"Scatter\"},{\"attributes\":{\"fill_color\":{\"value\":\"#1f77b4\"},\"line_color\":{\"value\":\"#1f77b4\"},\"size\":{\"units\":\"screen\",\"value\":8},\"x\":{\"field\":\"x1\"},\"y\":{\"field\":\"x2\"}},\"id\":\"1034\",\"type\":\"Scatter\"},{\"attributes\":{\"ticker\":{\"id\":\"1014\",\"type\":\"BasicTicker\"}},\"id\":\"1017\",\"type\":\"Grid\"},{\"attributes\":{},\"id\":\"1026\",\"type\":\"SaveTool\"},{\"attributes\":{\"text\":\"word2vec T-SNE for most common words\"},\"id\":\"1003\",\"type\":\"Title\"},{\"attributes\":{\"callback\":null,\"data\":{\"names\":[\"\\u044f\",\"\\u0431\\u044b\\u0442\\u044c\",\"\\u0438\",\"\\u0442\\u0430\\u043a\",\"\\u0437\\u0430\",\"\\u043d\\u0435\",\":(\",\"\\u043d\\u0430\",\"\\u0440\\u0430\\u0431\\u043e\\u0442\\u0430\",\"\\u043f\\u043e\\u043b\\u043d\\u044b\\u0439\",\":|\",\"\\u043a\\u0430\\u0436\\u0434\\u044b\\u0439\",\"\\u0437\\u0430\\u043a\\u0440\\u044b\\u0442\\u0438\\u0435\",\"\\u043c\\u0435\\u0441\\u044f\\u0446\",\"\\u0436\\u0435\",\"\\u0441\\u0432\\u0438\\u0445\\u0438\\u0432\\u0430\\u0442\\u044c\\u0441\\u044f\",\"D:\",\"\\u043a\\u043e\\u043b\\u043b\\u0435\\u0433\\u0430\",\"\\u0441\\u0438\\u0434\\u0435\\u0442\\u044c\",\"\\u0440\\u0443\\u0431\\u0438\\u0442\\u044c\\u0441\\u044f\",\"\\u0432\",\"\\u0430\",\"\\u0438\\u0437\",\"\\u0434\\u043e\\u043b\\u0431\\u0430\\u0442\\u044c\",\"\\u0432\\u0438\\u043d\\u0434\",\"\\u043c\\u043e\\u0447\\u044c\",\"post\",\"\\u043a\\u0430\\u043a\",\"\\u0433\\u043e\\u0432\\u043e\\u0440\\u0438\\u0442\\u044c\",\"\\u0442\\u0440\\u0438\",\"\\u0433\\u043e\\u0434\",\"\\u0436\\u0434\\u0430\\u0442\\u044c\",\"((\",\"\\u0436\\u0435\\u043b\\u0430\\u0442\\u044c\",\"\\u0445\\u043e\\u0440\\u043e\\u0448\\u0438\\u0439\",\"\\u043f\\u043e\\u043b\",\"\\u0442\\u043e\\u0442\",\"\\u0443\\u0434\\u0430\\u0447\\u043d\\u044b\\u0439\",\"\\u043f\\u043e\\u0441\\u0430\\u0434\\u043a\\u0430\",\"\\u043e\\u0447\\u0435\\u043d\\u044c\",\"\\u0441\\u0438\\u043b\\u044c\\u043d\\u043e\",\"\\u0441\\u043a\\u0443\\u0447\\u0430\\u0442\\u044c(\",\"http://t\",\"S\",\"\\u043e\\u0431\\u043d\\u043e\\u0432\\u043b\\u044f\\u0442\\u044c\",\"\\u043a\\u0430\\u043a\\u043e\\u0439\",\"\\u0442\\u043e\",\"\\u043b\\u0435\\u0448\\u0438\\u0439\",\"surf\",\"\\u0442\\u0435\\u043f\\u0435\\u0440\\u044c\",\"\\u0440\\u0430\\u0431\\u043e\\u0442\\u0430\\u0442\\u044c\",\"\\u043f\\u0440\\u043e\\u0441\\u0442\\u043e\\u043f\\u043b\\u0435\\u0435\\u0440\"],\"x1\":{\"__ndarray__\":\"FAOXQpXJqsHl9wBC7QNbwtazp8LUUadCxUMcQoujc0KfJWXBL2nHQazVqEH7JRlC0KW3wEX7OkHDHB7CJxiCwD1ZBMItrZHB3FHsv0+s38HmRCBCKXsNQqteXUKWDl7Bw0EQv1iCzMEp/ovBAXB6whjUKcLHtq1BQ0viQH44rUHHAWdBxLs8wlf4osDP2GVBRKfKQRK3wT8Dug3Ayz+RwoJmVMLrS+ZAFxEOwr9T/sFjNWxBuDuMwgFFc0JjhfLBXc2Kwap2SEIDRxTAMdkBQQ==\",\"dtype\":\"float32\",\"shape\":[52]},\"x2\":{\"__ndarray__\":\"mkLcQCqoFkKCEHJBpDgbwiwVKUD6MPdAHVdUwLsFG0KhFxvCjvNmwTk+yj8JOmpCUuFewdBJj0JA5qBBsC63vwgK1sGkX55BkrZNQiCEskD8f+vBHjX5Qd48OsKU795Aa/HOwQlDgkIyXKnB6G+gQVk+JkLEqEpCK2irQvwGOML0MpJBro58v8cRfsIhRhNCO4OPwodpL8JPqGpBsKnfwf8GlMG6unRA70WEwk6kN8IzQdDBwootQupJdsHS5h/B/JbJwHx7QEFa0PpBbTwuwQ==\",\"dtype\":\"float32\",\"shape\":[52]}},\"selected\":{\"id\":\"1046\",\"type\":\"Selection\"},\"selection_policy\":{\"id\":\"1045\",\"type\":\"UnionRenderers\"}},\"id\":\"1032\",\"type\":\"ColumnDataSource\"},{\"attributes\":{\"active_drag\":\"auto\",\"active_inspect\":\"auto\",\"active_multi\":null,\"active_scroll\":\"auto\",\"active_tap\":\"auto\",\"tools\":[{\"id\":\"1023\",\"type\":\"PanTool\"},{\"id\":\"1024\",\"type\":\"WheelZoomTool\"},{\"id\":\"1025\",\"type\":\"ResetTool\"},{\"id\":\"1026\",\"type\":\"SaveTool\"}]},\"id\":\"1027\",\"type\":\"Toolbar\"},{\"attributes\":{\"callback\":null},\"id\":\"1005\",\"type\":\"DataRange1d\"},{\"attributes\":{\"callback\":null},\"id\":\"1007\",\"type\":\"DataRange1d\"},{\"attributes\":{},\"id\":\"1009\",\"type\":\"LinearScale\"},{\"attributes\":{\"source\":{\"id\":\"1032\",\"type\":\"ColumnDataSource\"}},\"id\":\"1037\",\"type\":\"CDSView\"},{\"attributes\":{\"data_source\":{\"id\":\"1032\",\"type\":\"ColumnDataSource\"},\"glyph\":{\"id\":\"1034\",\"type\":\"Scatter\"},\"hover_glyph\":null,\"muted_glyph\":null,\"nonselection_glyph\":{\"id\":\"1035\",\"type\":\"Scatter\"},\"selection_glyph\":null,\"view\":{\"id\":\"1037\",\"type\":\"CDSView\"}},\"id\":\"1036\",\"type\":\"GlyphRenderer\"},{\"attributes\":{},\"id\":\"1011\",\"type\":\"LinearScale\"},{\"attributes\":{\"formatter\":{\"id\":\"1042\",\"type\":\"BasicTickFormatter\"},\"ticker\":{\"id\":\"1014\",\"type\":\"BasicTicker\"}},\"id\":\"1013\",\"type\":\"LinearAxis\"},{\"attributes\":{\"source\":{\"id\":\"1032\",\"type\":\"ColumnDataSource\"},\"text\":{\"field\":\"names\"},\"text_align\":\"center\",\"text_color\":{\"value\":\"#555555\"},\"text_font_size\":{\"value\":\"8pt\"},\"x\":{\"field\":\"x1\"},\"y\":{\"field\":\"x2\"},\"y_offset\":{\"value\":6}},\"id\":\"1038\",\"type\":\"LabelSet\"},{\"attributes\":{},\"id\":\"1042\",\"type\":\"BasicTickFormatter\"},{\"attributes\":{},\"id\":\"1014\",\"type\":\"BasicTicker\"},{\"attributes\":{},\"id\":\"1044\",\"type\":\"BasicTickFormatter\"},{\"attributes\":{\"formatter\":{\"id\":\"1044\",\"type\":\"BasicTickFormatter\"},\"ticker\":{\"id\":\"1019\",\"type\":\"BasicTicker\"}},\"id\":\"1018\",\"type\":\"LinearAxis\"},{\"attributes\":{},\"id\":\"1045\",\"type\":\"UnionRenderers\"},{\"attributes\":{},\"id\":\"1019\",\"type\":\"BasicTicker\"},{\"attributes\":{},\"id\":\"1046\",\"type\":\"Selection\"},{\"attributes\":{\"dimension\":1,\"ticker\":{\"id\":\"1019\",\"type\":\"BasicTicker\"}},\"id\":\"1022\",\"type\":\"Grid\"}],\"root_ids\":[\"1002\"]},\"title\":\"Bokeh Application\",\"version\":\"1.2.0\"}};\n",
       "  var render_items = [{\"docid\":\"3ea39833-f06e-4393-92d4-48c51dd36d1b\",\"roots\":{\"1002\":\"e42d0ebc-9292-4780-afbd-bdd0e188700d\"}}];\n",
       "  root.Bokeh.embed.embed_items_notebook(docs_json, render_items);\n",
       "\n",
       "  }\n",
       "  if (root.Bokeh !== undefined) {\n",
       "    embed_document(root);\n",
       "  } else {\n",
       "    var attempts = 0;\n",
       "    var timer = setInterval(function(root) {\n",
       "      if (root.Bokeh !== undefined) {\n",
       "        embed_document(root);\n",
       "        clearInterval(timer);\n",
       "      }\n",
       "      attempts++;\n",
       "      if (attempts > 100) {\n",
       "        console.log(\"Bokeh: ERROR: Unable to run BokehJS code because BokehJS library is missing\");\n",
       "        clearInterval(timer);\n",
       "      }\n",
       "    }, 10, root)\n",
       "  }\n",
       "})(window);"
      ],
      "application/vnd.bokehjs_exec.v0+json": ""
     },
     "metadata": {
      "application/vnd.bokehjs_exec.v0+json": {
       "id": "1002"
      }
     },
     "output_type": "display_data"
    }
   ],
   "source": [
    "from bokeh.models import ColumnDataSource, LabelSet\n",
    "from bokeh.plotting import figure, show, output_file\n",
    "from bokeh.io import output_notebook\n",
    "output_notebook()\n",
    "\n",
    "p = figure(tools=\"pan,wheel_zoom,reset,save\",\n",
    "           toolbar_location=\"above\",\n",
    "           title=\"word2vec T-SNE for most common words\")\n",
    "\n",
    "source = ColumnDataSource(data=dict(x1=top_words_tsne[:,0],\n",
    "                                    x2=top_words_tsne[:,1],\n",
    "                                    names=top_words))\n",
    "\n",
    "p.scatter(x=\"x1\", y=\"x2\", size=8, source=source)\n",
    "\n",
    "labels = LabelSet(x=\"x1\", y=\"x2\", text=\"names\", y_offset=6,\n",
    "                  text_font_size=\"8pt\", text_color=\"#555555\",\n",
    "                  source=source, text_align='center')\n",
    "p.add_layout(labels)\n",
    "\n",
    "show(p)"
   ]
  },
  {
   "cell_type": "markdown",
   "metadata": {},
   "source": [
    "Теперь нарисуем облако слов"
   ]
  },
  {
   "cell_type": "code",
   "execution_count": 40,
   "metadata": {},
   "outputs": [
    {
     "data": {
      "image/png": "[encoded data removed]",
      "text/plain": [
       "<Figure size 432x288 with 1 Axes>"
      ]
     },
     "metadata": {
      "needs_background": "light"
     },
     "output_type": "display_data"
    }
   ],
   "source": [
    "from wordcloud import *\n",
    "word_freq = [i for i in fd.most_common(100)]\n",
    "wd = WordCloud(background_color = 'white')\n",
    "wd.generate_from_frequencies(dict(word_freq))\n",
    "plt.figure()\n",
    "plt.imshow(wd, interpolation = 'bilinear')\n",
    "plt.axis('off')\n",
    "plt.show()"
   ]
  },
  {
   "cell_type": "markdown",
   "metadata": {},
   "source": [
    "### Кластеризация слов"
   ]
  },
  {
   "cell_type": "code",
   "execution_count": 41,
   "metadata": {},
   "outputs": [],
   "source": [
    "from sklearn.metrics.pairwise import cosine_similarity\n",
    "dist = 1 - cosine_similarity(top_words_vec)"
   ]
  },
  {
   "cell_type": "code",
   "execution_count": 42,
   "metadata": {},
   "outputs": [
    {
     "data": {
      "image/png": "[encoded data removed]",
      "text/plain": [
       "<Figure size 720x7200 with 1 Axes>"
      ]
     },
     "metadata": {
      "needs_background": "light"
     },
     "output_type": "display_data"
    }
   ],
   "source": [
    "from scipy.cluster.hierarchy import  ward, dendrogram\n",
    "\n",
    "linkage_matrix = ward(dist) \n",
    "\n",
    "fig, ax = plt.subplots(figsize=(10, 100)) \n",
    "ax = dendrogram(linkage_matrix, orientation=\"right\", labels=top_words);\n",
    "\n",
    "plt.tick_params(\\\n",
    "    axis= 'x',          # changes apply to the x-axis\n",
    "    which='both',      # both major and minor ticks are affected\n",
    "    bottom='off',      # ticks along the bottom edge are off\n",
    "    top='off',         # ticks along the top edge are off\n",
    "    labelbottom='off')\n",
    "\n",
    "plt.tight_layout() \n",
    "\n",
    "plt.savefig('w2v_cluster.png', dpi=200) #save figure as ward_clusters"
   ]
  },
  {
   "cell_type": "markdown",
   "metadata": {},
   "source": [
    "## Языковые модели"
   ]
  },
  {
   "cell_type": "markdown",
   "metadata": {},
   "source": [
    "### Модели биграм в NLTK"
   ]
  },
  {
   "cell_type": "code",
   "execution_count": 43,
   "metadata": {},
   "outputs": [],
   "source": [
    "import nltk"
   ]
  },
  {
   "cell_type": "code",
   "execution_count": 44,
   "metadata": {},
   "outputs": [
    {
     "name": "stdout",
     "output_type": "stream",
     "text": [
      "['aachenosaurus', 'aardonyx', 'abdallahsaurus', 'abelisaurus', 'abrictosaurus', 'abrosaurus', 'abydosaurus', 'acanthopholis', 'achelousaurus', 'acheroraptor']\n"
     ]
    }
   ],
   "source": [
    "names = [name.strip().lower() for name in open('dinos.txt').readlines()]\n",
    "print(names[:10])"
   ]
  },
  {
   "cell_type": "code",
   "execution_count": 45,
   "metadata": {},
   "outputs": [
    {
     "name": "stdout",
     "output_type": "stream",
     "text": [
      "['a', 'c', 'h', 'e', 'n', 'o', 's', 'u', 'r', 'd', 'y', 'x', 'b', 'l', 'i', 't', 'p', 'v', 'm', 'g', 'f', 'j', 'k', 'w', 'z', 'q']\n"
     ]
    }
   ],
   "source": [
    "chars = [char  for name in names for char in name]\n",
    "freq = nltk.FreqDist(chars)\n",
    "\n",
    "print(list(freq.keys()))"
   ]
  },
  {
   "cell_type": "code",
   "execution_count": 46,
   "metadata": {},
   "outputs": [
    {
     "name": "stdout",
     "output_type": "stream",
     "text": [
      "<FreqDist with 26 samples and 2487 outcomes>\n"
     ]
    }
   ],
   "source": [
    "cfreq = nltk.ConditionalFreqDist(nltk.bigrams(chars))\n",
    "print(cfreq['a'])"
   ]
  },
  {
   "cell_type": "code",
   "execution_count": 47,
   "metadata": {},
   "outputs": [
    {
     "name": "stdout",
     "output_type": "stream",
     "text": [
      "p(a a) = 0.0105\n",
      "p(a b) = 0.0129\n",
      "p(a u) = 0.3185\n"
     ]
    }
   ],
   "source": [
    "cprob = nltk.ConditionalProbDist(cfreq, nltk.MLEProbDist)\n",
    "print('p(a a) = %1.4f' %cprob['a'].prob('a'))\n",
    "print('p(a b) = %1.4f' %cprob['a'].prob('b'))\n",
    "print('p(a u) = %1.4f' %cprob['a'].prob('u'))"
   ]
  },
  {
   "cell_type": "code",
   "execution_count": 48,
   "metadata": {},
   "outputs": [
    {
     "name": "stdout",
     "output_type": "stream",
     "text": [
      "p(a) = 0.1354\n"
     ]
    }
   ],
   "source": [
    "l = sum([freq[char] for char in freq])\n",
    "def unigram_prob(char):\n",
    "    return freq[char] / l\n",
    "print('p(a) = %1.4f' %unigram_prob('a'))"
   ]
  },
  {
   "cell_type": "code",
   "execution_count": 49,
   "metadata": {},
   "outputs": [
    {
     "data": {
      "text/plain": [
       "'u'"
      ]
     },
     "execution_count": 49,
     "metadata": {},
     "output_type": "execute_result"
    }
   ],
   "source": [
    "# можно порождать случайные символы с учётом предыдущих \n",
    "cprob['a'].generate()"
   ]
  },
  {
   "cell_type": "markdown",
   "metadata": {},
   "source": [
    "### Задание 6"
   ]
  },
  {
   "cell_type": "markdown",
   "metadata": {
    "collapsed": true
   },
   "source": [
    "Напишите функцию для генерации нового имени динозавра фиксированной длины."
   ]
  },
  {
   "cell_type": "markdown",
   "metadata": {},
   "source": [
    "### Рекуррентные нейронные языковые модели"
   ]
  },
  {
   "cell_type": "code",
   "execution_count": 50,
   "metadata": {},
   "outputs": [],
   "source": [
    "import numpy as np\n",
    "import random\n",
    "import torch\n",
    "import torch.nn as nn\n",
    "import torch.optim as optim\n",
    "import pdb\n",
    "from torch.utils.data import Dataset, DataLoader\n",
    "\n",
    "%load_ext autoreload\n",
    "%autoreload 2\n",
    "\n",
    "torch.set_printoptions(linewidth=200)"
   ]
  },
  {
   "cell_type": "code",
   "execution_count": 51,
   "metadata": {},
   "outputs": [],
   "source": [
    "device = torch.device(\"cuda:0\" if torch.cuda.is_available() else \"cpu\")\n",
    "hidden_size = 50"
   ]
  },
  {
   "cell_type": "code",
   "execution_count": 52,
   "metadata": {},
   "outputs": [],
   "source": [
    "class DinosDataset(Dataset):\n",
    "    def __init__(self):\n",
    "        super().__init__()\n",
    "        with open('dinos.txt') as f:\n",
    "            content = f.read().lower()\n",
    "            self.vocab = sorted(set(content))\n",
    "            self.vocab_size = len(self.vocab)\n",
    "            self.lines = content.splitlines()\n",
    "        self.ch_to_idx = {c:i for i, c in enumerate(self.vocab)}\n",
    "        self.idx_to_ch = {i:c for i, c in enumerate(self.vocab)}\n",
    "    \n",
    "    def __getitem__(self, index):\n",
    "        line = self.lines[index]\n",
    "        #teacher forcing\n",
    "        x_str = line\n",
    "        y_str = line[1:] + '\\n'\n",
    "        x = torch.zeros([len(x_str), self.vocab_size], dtype=torch.float)\n",
    "        y = torch.empty(len(x_str), dtype=torch.long)\n",
    "        for i, (x_ch, y_ch) in enumerate(zip(x_str, y_str)):\n",
    "            x[i][self.ch_to_idx[x_ch]] = 1\n",
    "            y[i] = self.ch_to_idx[y_ch]\n",
    "        \n",
    "        return x, y\n",
    "    \n",
    "    def __len__(self):\n",
    "        return len(self.lines)"
   ]
  },
  {
   "cell_type": "code",
   "execution_count": 53,
   "metadata": {},
   "outputs": [],
   "source": [
    "trn_ds = DinosDataset()\n",
    "trn_dl = DataLoader(trn_ds, shuffle=True)"
   ]
  },
  {
   "cell_type": "code",
   "execution_count": 54,
   "metadata": {},
   "outputs": [
    {
     "name": "stdout",
     "output_type": "stream",
     "text": [
      "aardonyx\n"
     ]
    }
   ],
   "source": [
    "print(trn_ds.lines[1])"
   ]
  },
  {
   "cell_type": "code",
   "execution_count": 55,
   "metadata": {},
   "outputs": [
    {
     "name": "stdout",
     "output_type": "stream",
     "text": [
      "{'\\n': 0, 'a': 1, 'b': 2, 'c': 3, 'd': 4, 'e': 5, 'f': 6, 'g': 7, 'h': 8, 'i': 9, 'j': 10, 'k': 11, 'l': 12, 'm': 13, 'n': 14, 'o': 15, 'p': 16, 'q': 17, 'r': 18, 's': 19, 't': 20, 'u': 21, 'v': 22, 'w': 23, 'x': 24, 'y': 25, 'z': 26}\n"
     ]
    }
   ],
   "source": [
    "print(trn_ds.ch_to_idx)"
   ]
  },
  {
   "cell_type": "code",
   "execution_count": 56,
   "metadata": {},
   "outputs": [
    {
     "name": "stdout",
     "output_type": "stream",
     "text": [
      "tensor([[0., 1., 0., 0., 0., 0., 0., 0., 0., 0., 0., 0., 0., 0., 0., 0., 0., 0., 0., 0., 0., 0., 0., 0., 0., 0., 0.],\n",
      "        [0., 1., 0., 0., 0., 0., 0., 0., 0., 0., 0., 0., 0., 0., 0., 0., 0., 0., 0., 0., 0., 0., 0., 0., 0., 0., 0.],\n",
      "        [0., 0., 0., 0., 0., 0., 0., 0., 0., 0., 0., 0., 0., 0., 0., 0., 0., 0., 1., 0., 0., 0., 0., 0., 0., 0., 0.],\n",
      "        [0., 0., 0., 0., 1., 0., 0., 0., 0., 0., 0., 0., 0., 0., 0., 0., 0., 0., 0., 0., 0., 0., 0., 0., 0., 0., 0.],\n",
      "        [0., 0., 0., 0., 0., 0., 0., 0., 0., 0., 0., 0., 0., 0., 0., 1., 0., 0., 0., 0., 0., 0., 0., 0., 0., 0., 0.],\n",
      "        [0., 0., 0., 0., 0., 0., 0., 0., 0., 0., 0., 0., 0., 0., 1., 0., 0., 0., 0., 0., 0., 0., 0., 0., 0., 0., 0.],\n",
      "        [0., 0., 0., 0., 0., 0., 0., 0., 0., 0., 0., 0., 0., 0., 0., 0., 0., 0., 0., 0., 0., 0., 0., 0., 0., 1., 0.],\n",
      "        [0., 0., 0., 0., 0., 0., 0., 0., 0., 0., 0., 0., 0., 0., 0., 0., 0., 0., 0., 0., 0., 0., 0., 0., 1., 0., 0.]])\n",
      "tensor([ 1, 18,  4, 15, 14, 25, 24,  0])\n"
     ]
    }
   ],
   "source": [
    "x, y = trn_ds[1]\n",
    "print(x)\n",
    "print(y)"
   ]
  },
  {
   "cell_type": "code",
   "execution_count": 57,
   "metadata": {},
   "outputs": [],
   "source": [
    "class RNN(nn.Module):\n",
    "    def __init__(self, input_size, hidden_size, output_size):\n",
    "        super().__init__()\n",
    "        self.i2h = nn.Linear(input_size + hidden_size, hidden_size)\n",
    "        self.dropout = nn.Dropout(0.3)\n",
    "        self.i2o = nn.Linear(input_size + hidden_size, output_size)\n",
    "    \n",
    "    def forward(self, h_prev, x):\n",
    "        combined = torch.cat([h_prev, x], dim = 1) # конкатенируем вектора состояния и входа\n",
    "        h = torch.tanh(self.dropout(self.i2h(combined)))\n",
    "        y = self.i2o(combined)\n",
    "        return h, y"
   ]
  },
  {
   "cell_type": "code",
   "execution_count": 58,
   "metadata": {},
   "outputs": [],
   "source": [
    "model = RNN(trn_ds.vocab_size, hidden_size, trn_ds.vocab_size).to(device)\n",
    "loss_fn = nn.CrossEntropyLoss()\n",
    "optimizer = optim.SGD(model.parameters(), lr=1e-2)"
   ]
  },
  {
   "cell_type": "code",
   "execution_count": 59,
   "metadata": {},
   "outputs": [],
   "source": [
    "def print_sample(sample_idxs):\n",
    "    [print(trn_ds.idx_to_ch[x], end='') for x in sample_idxs]"
   ]
  },
  {
   "cell_type": "code",
   "execution_count": 60,
   "metadata": {},
   "outputs": [],
   "source": [
    "def sample(model):\n",
    "    model.eval()\n",
    "    word_size=0\n",
    "    newline_idx = trn_ds.ch_to_idx['\\n']\n",
    "    with torch.no_grad():\n",
    "        h_prev = torch.zeros([1, hidden_size], dtype=torch.float, device=device)\n",
    "        x = h_prev.new_zeros([1, trn_ds.vocab_size])\n",
    "        start_char_idx = random.randint(1, trn_ds.vocab_size-1)\n",
    "        indices = [start_char_idx]\n",
    "        x[0, start_char_idx] = 1\n",
    "        predicted_char_idx = start_char_idx\n",
    "        \n",
    "        while predicted_char_idx != newline_idx and word_size != 50:\n",
    "            h_prev, y_pred = model(h_prev, x)\n",
    "            y_softmax_scores = torch.softmax(y_pred, dim=1)\n",
    "            \n",
    "            np.random.seed(np.random.randint(1, 5000))\n",
    "            idx = np.random.choice(np.arange(trn_ds.vocab_size), p=y_softmax_scores.cpu().numpy().ravel())\n",
    "            indices.append(idx)\n",
    "            \n",
    "            x = (y_pred == y_pred.max(1)[0]).float()\n",
    "            predicted_char_idx = idx\n",
    "            \n",
    "            word_size += 1\n",
    "        \n",
    "        if word_size == 50:\n",
    "            indices.append(newline_idx)\n",
    "    return indices"
   ]
  },
  {
   "cell_type": "code",
   "execution_count": 61,
   "metadata": {},
   "outputs": [],
   "source": [
    "def train_one_epoch(model, loss_fn, optimizer):\n",
    "    model.train()\n",
    "    for line_num, (x, y) in enumerate(trn_dl):\n",
    "        loss = 0\n",
    "        optimizer.zero_grad()\n",
    "        h_prev = torch.zeros([1, hidden_size], dtype=torch.float, device=device)\n",
    "        x, y = x.to(device), y.to(device)\n",
    "        for i in range(x.shape[1]):\n",
    "            h_prev, y_pred = model(h_prev, x[:, i])\n",
    "            loss += loss_fn(y_pred, y[:, i])\n",
    "            \n",
    "        if (line_num+1) % 100 == 0:\n",
    "            print_sample(sample(model))\n",
    "        loss.backward()\n",
    "        optimizer.step()"
   ]
  },
  {
   "cell_type": "code",
   "execution_count": 62,
   "metadata": {},
   "outputs": [],
   "source": [
    "def train(model, loss_fn, optimizer, dataset='dinos', epochs=1):\n",
    "    for e in range(1, epochs+1):\n",
    "        print('Epoch:{}'.format(e))\n",
    "        train_one_epoch(model, loss_fn, optimizer)\n",
    "        print()"
   ]
  },
  {
   "cell_type": "code",
   "execution_count": 63,
   "metadata": {},
   "outputs": [
    {
     "name": "stdout",
     "output_type": "stream",
     "text": [
      "Epoch:1\n",
      "funnaurcs\n",
      "lwul\n",
      "ntaaar\n",
      "wblilrurssadoes\n",
      "xeprsxurus\n",
      "ldtdraugus\n",
      "xwtlgeurus\n",
      "osadtoannni\n",
      "buynlaurus\n",
      "ziaraaurusaurus\n",
      "uslxnurus\n",
      "binakmhrus\n",
      "cbriaoiiuris\n",
      "mivotaurus\n",
      "toriyooosodrul\n",
      "\n",
      "Epoch:2\n",
      "crbolrcaur\n",
      "anius\n",
      "katansuros\n",
      "fsngshutus\n",
      "grtanaerus\n",
      "betaenuaus\n",
      "jglasausus\n",
      "zstroaurus\n",
      "ijnptaurrs\n",
      "dargtbasaerus\n",
      "whbscaurus\n",
      "sourisassus\n",
      "irtannanaurus\n",
      "gariapaurus\n",
      "vamxsorrus\n",
      "\n",
      "Epoch:3\n",
      "gepoiveurus\n",
      "hhnaisaurur\n",
      "brnanhluris\n",
      "yivnuikurus\n",
      "lonysnoss\n",
      "xiibgscomnnrus\n",
      "zigtinaurus\n",
      "dugotrinaurus\n",
      "xoptasaerus\n",
      "xesbdsaarus\n",
      "urataotiuaos\n",
      "vilosaurus\n",
      "muaiicaulus\n",
      "faeoraurus\n",
      "gatansaurus\n",
      "\n",
      "Epoch:4\n",
      "urcsnusus\n",
      "brtanoaurus\n",
      "usactoaaetlr\n",
      "auboseurus\n",
      "chlntouhurus\n",
      "yinaisaurus\n",
      "brnaoilurus\n",
      "dlslvchurus\n",
      "xolysnsus\n",
      "phnahsaurus\n",
      "eriaomonias\n",
      "liuoscsiurus\n",
      "chyososedrus\n",
      "hucphsaasaerus\n",
      "sacrartusos\n",
      "\n",
      "Epoch:5\n",
      "qtnersaurus\n",
      "hubgocaurus\n",
      "xaasiaaurus\n",
      "quanusrurus\n",
      "saurotiurus\n",
      "nilcgsaurur\n",
      "wrnaoliurus\n",
      "givkydeurus\n",
      "siruuseuras\n",
      "valtcoratrus\n",
      "lidsenaurus\n",
      "ptetsourus\n",
      "zysipsierus\n",
      "kucpnrdaures\n",
      "rumias\n",
      "\n",
      "Epoch:6\n",
      "onxsthr\n",
      "brneosaurus\n",
      "drcgodaurus\n",
      "ladooaaurus\n",
      "rubitaurus\n",
      "nidiurus\n",
      "vlrvair\n",
      "omoclesadhuaus\n",
      "fglarcaurus\n",
      "rutharoptormxi\n",
      "chraoocauros\n",
      "saarisaunus\n",
      "nytpktusaurus\n",
      "wtnoosaurss\n",
      "kasgucauris\n",
      "\n",
      "Epoch:7\n",
      "mrliasaurus\n",
      "xrsoolaurus\n",
      "loptamaerus\n",
      "elubdrnbler\n",
      "qiasaiuiuauotths\n",
      "wgxsososaurss\n",
      "lanmtcauras\n",
      "qudnatdaurus\n",
      "gtrhisausus\n",
      "mosannaurus\n",
      "hubconaurus\n",
      "cararrryctor\n",
      "sauroviurus\n",
      "linaesaurus\n",
      "corashsan\n",
      "\n",
      "Epoch:8\n",
      "drcgyshurus\n",
      "lepoovhurus\n",
      "enibhsaurus\n",
      "ytnaoeeurus\n",
      "eoytogottor\n",
      "gonyonosisrus\n",
      "grbshsalruh\n",
      "eirnocoatoreatuo\n",
      "hapoovkurus\n",
      "xilbgsaurus\n",
      "auraraurus\n",
      "canutoisotinaurus\n",
      "nottalsaurus\n",
      "xuaeoobaurus\n",
      "fubivsoouutor\n",
      "\n",
      "Epoch:9\n",
      "lonypsaurus\n",
      "walpasgs\n",
      "gasgaraurus\n",
      "palurtkeurus\n",
      "vinytisauhus\n",
      "ghsaolscrus\n",
      "apgunacras\n",
      "uruetusus\n",
      "ronvorostas\n",
      "nadodhuros\n",
      "tibhltheatcaurus\n",
      "trthlssaurus\n",
      "kubgicaurus\n",
      "paetoaurus\n",
      "casasrsiurus\n",
      "\n",
      "Epoch:10\n",
      "zerpsturus\n",
      "iamiananrus\n",
      "farncaprus\n",
      "vqgiuosaurus\n",
      "doniyosauros\n",
      "qaarbonoalaurus\n",
      "zhnahapturus\n",
      "oshhoonturus\n",
      "kamicaurus\n",
      "facuraraurus\n",
      "malvotaurus\n",
      "qurivsnauras\n",
      "paltasaumus\n",
      "farasaukus\n",
      "ctosgrsaurus\n",
      "\n",
      "Epoch:11\n",
      "nythsaurus\n",
      "perasgtajaurus\n",
      "sancudaurus\n",
      "skureseurus\n",
      "ostbohamras\n",
      "kucbsacrus\n",
      "licpanvsturus\n",
      "olnshysjrsr\n",
      "thpaltasaurus\n",
      "mamgrnalros\n",
      "botbssourus\n",
      "yyshsos\n",
      "dinaloasgsam\n",
      "mibkesaurus\n",
      "ruptesusoaurus\n",
      "\n",
      "Epoch:12\n",
      "qjonsbaurus\n",
      "brlpbasa\n",
      "apduraasos\n",
      "arsasourus\n",
      "riytoseurus\n",
      "veraoosaurui\n",
      "yeoniaocautorautor\n",
      "rontypostarma\n",
      "xoasgtaius\n",
      "ziksinasgaurus\n",
      "yusngosguosaus\n",
      "xinamsciurus\n",
      "epapasaurus\n",
      "utosaurus\n",
      "nothvmurus\n",
      "\n",
      "Epoch:13\n",
      "nimaoras\n",
      "quajssaurus\n",
      "xapbguaurus\n",
      "opartouoosaurus\n",
      "heraongirus\n",
      "urasaucus\n",
      "quntcrseurus\n",
      "axststuaus\n",
      "hercolmcrus\n",
      "bikpcnaua\n",
      "luptetosaurus\n",
      "sinootaurus\n",
      "carctans\n",
      "mamdoinar\n",
      "saurunourus\n",
      "\n",
      "Epoch:14\n",
      "quivtsauris\n",
      "caescrntaats\n",
      "hijsjnaurus\n",
      "yubnuros\n",
      "irmysaurup\n",
      "thcataonta\n",
      "auraraurus\n",
      "tanyosashurus\n",
      "veysrosanrus\n",
      "ircpmterus\n",
      "xiarghcamrus\n",
      "ueustonosrur\n",
      "notpcaurus\n",
      "queuagsacrus\n",
      "xiasaruurus\n",
      "\n",
      "Epoch:15\n",
      "sirrus\n",
      "jvpioot\n",
      "benamodiuras\n",
      "xiagcsggcaurus\n",
      "lapoongsgurus\n",
      "usuaatcus\n",
      "mogtanhurus\n",
      "walascaurus\n",
      "slurasaurus\n",
      "cotanoeaurus\n",
      "ecatichdtor\n",
      "sociustasturus\n",
      "opytiosherus\n",
      "kudsisasrup\n",
      "oiomoas\n",
      "\n",
      "Epoch:16\n",
      "hevksdaurus\n",
      "orhytosaurus\n",
      "peoarntcauris\n",
      "kupicoerus\n",
      "ratoyoaurut\n",
      "birotasanrus\n",
      "elucasacrus\n",
      "enatarysturus\n",
      "xinoitohsouaraator\n",
      "ketagsadrus\n",
      "igbsaitaurus\n",
      "epatoptusaus\n",
      "dnnaisaurus\n",
      "molaigshsaurus\n",
      "quaptsaurus\n",
      "\n",
      "Epoch:17\n",
      "ntloys\n",
      "ximagsaosanrus\n",
      "kiiumhaegrus\n",
      "iarsrnaurut\n",
      "yorstbgncaurus\n",
      "nacrnaomaurus\n",
      "weujulaurus\n",
      "prlwsosaurus\n",
      "jincpjtaasagrus\n",
      "anbucaurus\n",
      "gurjhosnstor\n",
      "bubenauros\n",
      "bubasoaaurus\n",
      "etaprrvaius\n",
      "rastituptor\n",
      "\n",
      "Epoch:18\n",
      "thnansdaurus\n",
      "mibnhsurus\n",
      "bevnugsourus\n",
      "ikusnsaunus\n",
      "emtcopaerus\n",
      "migtlraurus\n",
      "muctosaurus\n",
      "kunkssaurus\n",
      "eeoiocasa\n",
      "lidrinaurus\n",
      "huesouomaurus\n",
      "yssuanganaurus\n",
      "paroaassus\n",
      "drcgysinrus\n",
      "dgpsotolsaurus\n",
      "\n",
      "Epoch:19\n",
      "zeparrgnrus\n",
      "veltmocsdtor\n",
      "hartopaurus\n",
      "thrkuainaurus\n",
      "auaasacrus\n",
      "anaudisaurus\n",
      "gmgssnypsaurus\n",
      "yahsciuros\n",
      "ribjeullciurus\n",
      "zarttkraurus\n",
      "jonsajpaurus\n",
      "wucconaopauros\n",
      "eoysuasaurus\n",
      "phwtmort\n",
      "zhkcgocgks\n",
      "\n",
      "Epoch:20\n",
      "eiosapaaur\n",
      "psciyrthtos\n",
      "jinngysaurur\n",
      "ypagratis\n",
      "hapr\n",
      "eratoopuantsiurus\n",
      "penrhrsgssierus\n",
      "hucshsaurus\n",
      "saugodosrus\n",
      "agsusarrus\n",
      "isnnos\n",
      "rinakirrus\n",
      "ferraalrus\n",
      "fubnyhurus\n",
      "ypgoonyopauros\n",
      "\n",
      "Epoch:21\n",
      "edetasaurus\n",
      "uanrpuris\n",
      "dotmxnaurus\n",
      "erixooshuhus\n",
      "unuctes\n",
      "paoocg\n",
      "auredocaurus\n",
      "junngosaurus\n",
      "juangaireoes\n",
      "agsoacsrus\n",
      "hucgusaurus\n",
      "fersnzsaurus\n",
      "wecesasaurus\n",
      "eaigopadrus\n",
      "rovboscurus\n",
      "\n",
      "Epoch:22\n",
      "kxsaurud\n",
      "xiagsaurus\n",
      "esiaomugoas\n",
      "bevivaurus\n",
      "ysrnysaurus\n",
      "ilbgscsaurus\n",
      "jadnojnas\n",
      "vetiuisaurus\n",
      "thwoosaunus\n",
      "wanaonsanrum\n",
      "iaughcobaurus\n",
      "zuungpsixtos\n",
      "wubknaurus\n",
      "nubesadrus\n",
      "fibucpurudsus\n",
      "\n",
      "Epoch:23\n",
      "berlovohspurus\n",
      "zhuctgsaasarrus\n",
      "dicuantsiurus\n",
      "zeusgysgsaurus\n",
      "perasno\n",
      "jannaleaurus\n",
      "zhynyasaurus\n",
      "jizpgosierus\n",
      "xlaohsafss\n",
      "jiangjcoanturus\n",
      "yungseusus\n",
      "qusbmhcrus\n",
      "yltaeopaurus\n",
      "hatbovaurus\n",
      "jiangjurnoou\n",
      "\n",
      "Epoch:24\n",
      "benamlsrus\n",
      "cerebops\n",
      "zhcscaurus\n",
      "wunghsius\n",
      "apsutapharaurus\n",
      "qernaolonhes\n",
      "chuotops\n",
      "eretoruurus\n",
      "kanganctrus\n",
      "nathbilrps\n",
      "cohatotastopiiptus\n",
      "urttbaurus\n",
      "irnscauras\n",
      "wtlgauaaurus\n",
      "usunhosaurus\n",
      "\n",
      "Epoch:25\n",
      "wucgocaurus\n",
      "qaapi\n",
      "ligoilaurus\n",
      "ptdtyropsnryvhus\n",
      "ramicaulus\n",
      "valonasaurus\n",
      "yanyovlosaurus\n",
      "ovoitooain\n",
      "tetatisauruo\n",
      "xenghdtbaurus\n",
      "istgesaurus\n",
      "eruamodassor\n",
      "jaangapaolg\n",
      "trehvosaurus\n",
      "norovoosaurus\n",
      "\n",
      "Epoch:26\n",
      "amshs\n",
      "yuagrnanhaurps\n",
      "xixnyaseurus\n",
      "onystosaarus\n",
      "drcpiuagiuous\n",
      "gikatasuurus\n",
      "lonerosturus\n",
      "qaenaklerus\n",
      "nathbiiturus\n",
      "hewssgsus\n",
      "veronytaptor\n",
      "hicgrdauris\n",
      "gnaghsaurus\n",
      "ptnugosaurus\n",
      "juristucas\n",
      "\n",
      "Epoch:27\n",
      "omnbths\n",
      "ratharcsaurus\n",
      "yunycson\n",
      "keronysaurus\n",
      "gnbgrdoesaurul\n",
      "batcmaoasuurus\n",
      "hunloriueurus\n",
      "phlaiocaurus\n",
      "mickasaurus\n",
      "juntgosoinosaurus\n",
      "hublecretrus\n",
      "katgasaurus\n",
      "caitiuius\n",
      "migtosturus\n",
      "tanganoasaurus\n",
      "\n",
      "Epoch:28\n",
      "x\n",
      "xianglcobaurus\n",
      "osomerliuophus\n",
      "rinahocpshurus\n",
      "ligrenesaurus\n",
      "losoilosaurus\n",
      "xragncgrlauris\n",
      "hiaratieceurus\n",
      "tatytaurus\n",
      "conhtoch\n",
      "jaapgois\n",
      "garkangaurus\n",
      "livitnaurus\n",
      "atmurnosoc\n",
      "xiagtaurui\n",
      "\n",
      "Epoch:29\n",
      "kur\n",
      "kilonairis\n",
      "loserstops\n",
      "urytauruh\n",
      "ribhodiurus\n",
      "webiisisaurus\n",
      "xtaourngosaurus\n",
      "kuclhiis\n",
      "yuhy\n",
      "marnacnrus\n",
      "brcgziurus\n",
      "weloikuosauras\n",
      "baloblrsas\n",
      "zhanauroa\n",
      "ociytoosourus\n",
      "\n",
      "Epoch:30\n",
      "ilusloso\n",
      "anraruasguhauros\n",
      "singasaurus\n",
      "esttonsospurus\n",
      "banechoasgsaurud\n",
      "marnldsesourus\n",
      "kurapossurus\n",
      "sanrapoas\n",
      "us\n",
      "xcpjahloosaurus\n",
      "ithoruraurus\n",
      "riptocaurus\n",
      "ergtaloo\n",
      "ypctnaurus\n",
      "erubosiurus\n",
      "\n",
      "Epoch:31\n",
      "bythsrs\n",
      "zhobgoasgs\n",
      "batcbidturas\n",
      "urxruisiurus\n",
      "xixngnttcaurus\n",
      "osisahonaurus\n",
      "ocoatoosaurus\n",
      "qunnyyrsiurus\n",
      "wancunubhor\n",
      "rigtiraunus\n",
      "usasturus\n",
      "wevooosaorus\n",
      "quapguccosaurus\n",
      "uaucaurus\n",
      "siuiesiurus\n",
      "\n",
      "Epoch:32\n",
      "irpbos\n",
      "cetatotaitor\n",
      "hasiiasalsoy\n",
      "ausurhsaurus\n",
      "ertamodaurus\n",
      "dadsmaidrop\n",
      "etaotptdourus\n",
      "grlzosaurus\n",
      "valtcoridrus\n",
      "chlosocs\n",
      "veuotetssaususius\n",
      "ertamocaurus\n",
      "kakooaaurus\n",
      "trccvhurus\n",
      "apdtriusaurus\n",
      "\n",
      "Epoch:33\n",
      "ur\n",
      "retataukus\n",
      "handunebaurus\n",
      "wansrngosaurus\n",
      "euapteroetor\n",
      "rapmcaurus\n",
      "rucivnudeurus\n",
      "tonyunsaurus\n",
      "amsasatanofapaurus\n",
      "acrursdourus\n",
      "quexunnot\n",
      "yolalegrus\n",
      "marharaurus\n",
      "ranuhuiosourus\n",
      "tytgsmubus\n",
      "\n",
      "Epoch:34\n",
      "icucset\n",
      "pari\n",
      "hiitldes\n",
      "kitisastra\n",
      "pqreyonosktrus\n",
      "rucoeudaurus\n",
      "usis\n",
      "fubiskurus\n",
      "apcsrlveurus\n",
      "ilnaisaurus\n",
      "quibiisaurus\n",
      "iunsautsplhurus\n",
      "portcaurus\n",
      "grktaauras\n",
      "trngasaurus\n",
      "\n",
      "Epoch:35\n",
      "zrusiisnnuurus\n",
      "ranhapudaurus\n",
      "sabgasaurus\n",
      "usntaurus\n",
      "vioiwrrister\n",
      "xabpasguaurur\n",
      "waninasantosaurus\n",
      "torgysaurum\n",
      "chiatarhu\n",
      "rati\n",
      "quatilckanuspurus\n",
      "uiorkturus\n",
      "falidksaurus\n",
      "yunbnjoksaurus\n",
      "aucusssaurus\n",
      "\n",
      "Epoch:36\n",
      "throtauras\n",
      "janlxabonbaurus\n",
      "yuaitaurus\n",
      "xibjsezkosaurus\n",
      "onnathodauros\n",
      "ltmhasaptus\n",
      "isssongoseurus\n",
      "fakibaurus\n",
      "haesacrasaurus\n",
      "hypsaustsaurus\n",
      "opnttaolamtas\n",
      "gubdosaurus\n",
      "iasciuitgiurus\n",
      "prlvsoros\n",
      "melaataosaurus\n",
      "\n",
      "Epoch:37\n",
      "gndturus\n",
      "iluiqeeurus\n",
      "ysnyonauris\n",
      "acgucnurus\n",
      "foanhtlrus\n",
      "rhyhyaosmpsor\n",
      "nytosauius\n",
      "hdscolocauros\n",
      "kunaercaurus\n",
      "ispierrsuurus\n",
      "bangbisaurus\n",
      "grnaingjsaurus\n",
      "mucrutinan\n",
      "curioruaaurus\n",
      "kulubeosas\n",
      "\n",
      "Epoch:38\n",
      "mohkclirus\n",
      "zaosnnnaurus\n",
      "ornrahobaurus\n",
      "valofaoaurus\n",
      "ramtotgseurus\n",
      "qrytgrus\n",
      "sanchsaurus\n",
      "grnaenoor\n",
      "us\n",
      "sauktnsurus\n",
      "urivtisaurus\n",
      "wanasauius\n",
      "nanesaurus\n",
      "yunxeposaurus\n",
      "osisturus\n",
      "\n",
      "Epoch:39\n",
      "zhuewesaurus\n",
      "batchasaotaurus\n",
      "rihoopturus\n",
      "nakodaurus\n",
      "qaasn\n",
      "piethiasaurus\n",
      "prtomiroruttos\n",
      "qaeneioaoasaurur\n",
      "iapimaurus\n",
      "gudoroenoosuurus\n",
      "jaanactbsaurus\n",
      "obicthp\n",
      "rucgwrt\n",
      "wsnnilsausus\n",
      "siuanhaniurus\n",
      "\n",
      "Epoch:40\n",
      "mastasauruaharuusus\n",
      "vinisaurus\n",
      "lotcjpauros\n",
      "ptddsabrus\n",
      "dicochustlsus\n",
      "bdrknturus\n",
      "eaiccisaurus\n",
      "fukaraurus\n",
      "acrusilrus\n",
      "termruurus\n",
      "jaanbipaoniurus\n",
      "lidrlsaurus\n",
      "bueosnurus\n",
      "hysoouocaurus\n",
      "wsltaheueus\n",
      "\n",
      "Epoch:41\n",
      "yll\n",
      "lqchyrspaurus\n",
      "xihysnosodrus\n",
      "auburyalaurus\n",
      "fekasaisaurus\n",
      "nicoseupurus\n",
      "nikbgscrsiurus\n",
      "jiangjchurus\n",
      "qirsyngosaurus\n",
      "fuanr\n",
      "saucons\n",
      "xannahlsna\n",
      "kucivoudsosaurus\n",
      "brroosaraurus\n",
      "emubasocaurus\n",
      "\n",
      "Epoch:42\n",
      "is\n",
      "wethwdaurus\n",
      "molyrnnouauros\n",
      "wangucasaerus\n",
      "rebtcaurus\n",
      "xlnngosavturus\n",
      "wenbmsasaurus\n",
      "falhtaurus\n",
      "lupubscurus\n",
      "xiyonors\n",
      "uriesoloptarai\n",
      "doltosaurus\n",
      "vulosaurus\n",
      "uuuptosapteraanes\n",
      "derianetsasrus\n",
      "\n",
      "Epoch:43\n",
      "vitatusaurus\n",
      "juhngtcaurus\n",
      "drlualnocaurus\n",
      "aucosaurus\n",
      "ridkoouurus\n",
      "nalhcgrdauros\n",
      "tibilsaurus\n"
     ]
    },
    {
     "name": "stdout",
     "output_type": "stream",
     "text": [
      "crrtfosiurus\n",
      "furosauans\n",
      "ylrerloahos\n",
      "higwinax\n",
      "thugweeurus\n",
      "orntturus\n",
      "ninent\n",
      "lomtadopaoreen\n",
      "\n",
      "Epoch:44\n",
      "trcirrs\n",
      "mortinaurus\n",
      "torp\n",
      "onibhsaurus\n",
      "hunaeeonatrus\n",
      "fusesturus\n",
      "glyoksaurus\n",
      "betasaurus\n",
      "lanarhpaurus\n",
      "bueotpsaurus\n",
      "gnnsu\n",
      "melaisaurus\n",
      "usmbsataia\n",
      "zaitoteosaurus\n",
      "fustsiurus\n",
      "\n",
      "Epoch:45\n",
      "jioangpb\n",
      "drnanesapaor\n",
      "muntesostor\n",
      "onysaurun\n",
      "bicisaurus\n",
      "shnapaurun\n",
      "lagvotaurus\n",
      "nothyshosu\n",
      "zhobgrdauras\n",
      "epaneonasrus\n",
      "loserssaurus\n",
      "usisiuass\n",
      "xiucospirus\n",
      "qucporauous\n",
      "xrapooraurus\n",
      "\n",
      "Epoch:46\n",
      "pinosaures\n",
      "garatahaurus\n",
      "phlasausus\n",
      "siuronrolysisaurus\n",
      "xixdoisamhu\n",
      "ligsolaurus\n",
      "sqhrusaurus\n",
      "osnotpcrup\n",
      "sicteuaasacrus\n",
      "anbucaurus\n",
      "yurngusaurus\n",
      "craisapaosus\n",
      "ycsnagnaurus\n",
      "phtouhutaurus\n",
      "wyngosimrus\n",
      "\n",
      "Epoch:47\n",
      "wseohsaurus\n",
      "leslgbtgaurus\n",
      "usus\n",
      "ckravrrbus\n",
      "phlansarataps\n",
      "fanasenaurus\n",
      "ptdttosaurus\n",
      "riptocaurus\n",
      "auguaesg\n",
      "gngtinaurus\n",
      "ruchororeurus\n",
      "erotaph\n",
      "rctaonoerus\n",
      "ypbolnaurus\n",
      "euattoraseusus\n",
      "\n",
      "Epoch:48\n",
      "rttaor\n",
      "kesasaucos\n",
      "valeshocaurus\n",
      "natoscrrus\n",
      "aurnrtasaurus\n",
      "rataesi\n",
      "jiatgiccurus\n",
      "agsurlicurus\n",
      "lorsapanrus\n",
      "tetaasaerus\n",
      "ngboanmurus\n",
      "quimsrnturus\n",
      "wangacncoesacaulus\n",
      "gilcocgyseusus\n",
      "zeorgysessu\n",
      "\n",
      "Epoch:49\n",
      "eniaaubus\n",
      "haesebros\n",
      "rhboarops\n",
      "erqtemosaurus\n",
      "bubaraoreinraata\n",
      "piktlectarentetsturus\n",
      "suugosochod\n",
      "yuangrcauris\n",
      "comaerdaurus\n",
      "corasosaurus\n",
      "spbgocaurus\n",
      "facup\n",
      "salrooaurus\n",
      "muctosaurus\n",
      "judnsyaosaurus\n",
      "\n",
      "Epoch:50\n",
      "nuceni\n",
      "imlonraurus\n",
      "spgpstiasaurus\n",
      "grsannaurus\n",
      "kucasoconaes\n",
      "ltchyrokhurus\n",
      "hunyomoss\n",
      "thparricur\n",
      "cesnaocaures\n",
      "hixltdiurus\n",
      "molwonauros\n",
      "zaisaurus\n",
      "quibidunalrus\n",
      "goseoscurus\n",
      "puoirosauros\n",
      "\n"
     ]
    }
   ],
   "source": [
    "train(model, loss_fn, optimizer, epochs = 50)"
   ]
  },
  {
   "cell_type": "markdown",
   "metadata": {},
   "source": [
    "### Задание 7"
   ]
  },
  {
   "cell_type": "markdown",
   "metadata": {},
   "source": [
    "Измените код выше так, чтобы генерировались панграмы – имена динозавров, не содержащие повторяющихся букв"
   ]
  },
  {
   "cell_type": "markdown",
   "metadata": {},
   "source": [
    "### Использование LSTM нейронов"
   ]
  },
  {
   "cell_type": "code",
   "execution_count": 64,
   "metadata": {},
   "outputs": [],
   "source": [
    "class LSTM(nn.Module):\n",
    "    def __init__(self, input_size, hidden_size, output_size):\n",
    "        super(LSTM, self).__init__()\n",
    "        self.linear_f = nn.Linear(input_size + hidden_size, hidden_size)\n",
    "        self.linear_u = nn.Linear(input_size + hidden_size, hidden_size)\n",
    "        self.linear_c = nn.Linear(input_size + hidden_size, hidden_size)\n",
    "        self.linear_o = nn.Linear(input_size + hidden_size, hidden_size)\n",
    "        \n",
    "        self.i2o = nn.Linear(hidden_size, output_size)\n",
    "        \n",
    "    def forward(self, c_prev, h_prev, x):\n",
    "        combined = torch.cat([x, h_prev], 1)\n",
    "        f = torch.sigmoid(self.linear_f(combined))\n",
    "        u = torch.sigmoid(self.linear_u(combined))\n",
    "        c_tilde = torch.tanh(self.linear_c(combined))\n",
    "        c = f*c_prev + u*c_tilde\n",
    "        o = torch.sigmoid(self.linear_o(combined))\n",
    "        h = o*torch.tanh(c)\n",
    "        y = self.i2o(h)\n",
    "        \n",
    "        return c, h, y"
   ]
  },
  {
   "cell_type": "code",
   "execution_count": 65,
   "metadata": {},
   "outputs": [],
   "source": [
    "model = LSTM(trn_ds.vocab_size, hidden_size, trn_ds.vocab_size).to(device)\n",
    "optimizer = optim.Adam(model.parameters(), lr=1e-2)"
   ]
  },
  {
   "cell_type": "code",
   "execution_count": 66,
   "metadata": {},
   "outputs": [],
   "source": [
    "def sample(model):\n",
    "    model.eval()\n",
    "    with torch.no_grad():\n",
    "        c_prev = torch.zeros([1, hidden_size], dtype=torch.float, device=device)\n",
    "        h_prev = torch.zeros_like(c_prev)\n",
    "        idx = random.randint(1, 26)\n",
    "        x = c_prev.new_zeros([1, trn_ds.vocab_size])\n",
    "        x[0, idx] = 1\n",
    "        sampled_indexes = [idx]\n",
    "        n_chars = 1\n",
    "        newline_char_idx = trn_ds.ch_to_idx['\\n']\n",
    "        while n_chars != 50 and idx != newline_char_idx:\n",
    "            c_prev, h_prev, y_pred = model(c_prev, h_prev, x)\n",
    "            \n",
    "            np.random.seed(np.random.randint(1, 5000))\n",
    "            idx = np.random.choice(np.arange(trn_ds.vocab_size), p=torch.softmax(y_pred, 1).cpu().numpy().ravel())\n",
    "            sampled_indexes.append(idx)\n",
    "            \n",
    "            x = (y_pred == y_pred.max(1)[0]).float()\n",
    "            \n",
    "            n_chars += 1\n",
    "            \n",
    "            if n_chars == 50:\n",
    "                sampled_indexes.append(newline_char_idx)\n",
    "                \n",
    "    model.train()\n",
    "    return sampled_indexes"
   ]
  },
  {
   "cell_type": "code",
   "execution_count": 67,
   "metadata": {},
   "outputs": [],
   "source": [
    "def train_one_epoch(model, loss_fn, optimizer):\n",
    "    model.train()\n",
    "    for line_num, (x, y) in enumerate(trn_dl):\n",
    "        loss = 0\n",
    "        optimizer.zero_grad()\n",
    "        c_prev = torch.zeros([1, hidden_size], dtype=torch.float, device=device)\n",
    "        h_prev = torch.zeros_like(c_prev)\n",
    "        x, y = x.to(device), y.to(device)\n",
    "        for i in range(x.shape[1]):\n",
    "            c_prev, h_prev, y_pred = model(c_prev, h_prev, x[:, i])\n",
    "            loss += loss_fn(y_pred, y[:, i])\n",
    "            \n",
    "        if (line_num+1) % 100 == 0:\n",
    "            print_sample(sample(model))\n",
    "        loss.backward()\n",
    "        optimizer.step()"
   ]
  },
  {
   "cell_type": "code",
   "execution_count": null,
   "metadata": {},
   "outputs": [
    {
     "name": "stdout",
     "output_type": "stream",
     "text": [
      "Epoch:1\n",
      "rashs\n",
      "wcsmaaurus\n",
      "srarusourus\n",
      "gerrnytisaurus\n",
      "xduasgsaurur\n",
      "kesik\n",
      "ataiuaurus\n",
      "zhlppouurus\n",
      "aahlcaurus\n",
      "maesobaurus\n",
      "usamwsiurus\n",
      "jeronturus\n",
      "hamianpurus\n",
      "laskaaurus\n",
      "euaiusrmaurus\n",
      "\n",
      "Epoch:2\n",
      "ronyorauras\n",
      "palocourus\n",
      "hiaiesaurus\n",
      "yuntcrsaurus\n",
      "kyshoseurus\n",
      "mocrmtcauras\n",
      "asghbtanutop\n",
      "jusngrsaurus\n",
      "guairaurus\n",
      "quaesiaaurus\n",
      "gucgwsaurus\n",
      "fersruurus\n",
      "ranteppurus\n",
      "odriahurus\n",
      "isanturus\n",
      "\n",
      "Epoch:3\n",
      "argesaurus\n",
      "spuaonasaurus\n",
      "nbskbiurus\n",
      "ructortis\n",
      "irohaurus\n",
      "tirsaaurus\n",
      "grltaeiurus\n",
      "ygmbucaurus\n",
      "fuslhturus\n",
      "souranaurus\n",
      "netaasaurus\n",
      "pectcaurus\n",
      "xivngosaurus\n",
      "traglcaurus\n",
      "dacsocaurus\n",
      "\n",
      "Epoch:4\n",
      "isaruurus\n",
      "queioseuosaurus\n",
      "ocioahosaurus\n",
      "yargharcsaurus\n",
      "nopaurus\n",
      "diostarus\n",
      "mocrosaurus\n",
      "ohrltor\n",
      "hkxntfrsosaurus\n",
      "terotaraurus\n",
      "wataepm\n",
      "sieopauras\n",
      "xiwmsusaurus\n",
      "qujnsuaaurus\n",
      "nomtajaurus\n",
      "\n",
      "Epoch:5\n",
      "mageocon\n",
      "volotoolaurus\n",
      "poroboraurus\n",
      "gubguianksaurus\n",
      "suntlaurus\n",
      "xigxterpt\n",
      "qiiegrdaurus\n",
      "glarcurus\n",
      "damysturus\n",
      "kerlmuurus\n",
      "nanmanaurus\n",
      "gaohaodaurus\n",
      "whyltlspurus\n",
      "biysmottauris\n",
      "ucritbdaurus\n",
      "\n",
      "Epoch:6\n",
      "dematapturus\n",
      "xtxiislvaurus\n",
      "bhnalsaurus\n",
      "juabgcsenaueaurus\n",
      "grslessdunts\n",
      "lobeidisaurus\n",
      "eurapaurus\n",
      "lamyosaurus\n",
      "wupeuson\n",
      "quanjeniurus\n",
      "xeunasaurus\n",
      "odnotioskmus\n",
      "urnysaurus\n",
      "chcaslsaurus\n",
      "nandupaurus\n",
      "\n",
      "Epoch:7\n",
      "ersisolta\n",
      "coixoksaurus\n",
      "alrargucauras\n",
      "bumhapurus\n",
      "agoirosaurus\n",
      "ziushengoo\n",
      "sslragaurus\n",
      "nembohit\n",
      "utaosaurus\n",
      "fusgrssaurus\n"
     ]
    }
   ],
   "source": [
    "train(model, loss_fn, optimizer, epochs = 50)"
   ]
  },
  {
   "cell_type": "markdown",
   "metadata": {},
   "source": [
    "### Задание 8"
   ]
  },
  {
   "cell_type": "markdown",
   "metadata": {},
   "source": [
    "Написать функцию get_prob(), оценивающую веростность порождения одной строки (из файла) и найти самую вероятную строку, порождаемую каждой из трех языковых моделей."
   ]
  },
  {
   "cell_type": "markdown",
   "metadata": {},
   "source": [
    "### Задание 9"
   ]
  },
  {
   "cell_type": "markdown",
   "metadata": {},
   "source": [
    "Используя функцию get_prob(), написать функцию perplexety, оценивающую перплексию каждой из трех языковых моделей."
   ]
  },
  {
   "cell_type": "markdown",
   "metadata": {},
   "source": [
    "### Задание 10"
   ]
  },
  {
   "cell_type": "markdown",
   "metadata": {},
   "source": [
    "Добавить в функцию сэмплирования возможность использовать т.н. температуру. Сейчас сэмплирование следующего символа осуществляется с использованием np.random.choice, где вероятность каждого символа получена на выходе из softmax:\n",
    "\n",
    "p=torch.softmax(y_pred, 1).cpu().numpy().ravel().\n",
    "\n",
    "Температура сэмплирования определяется параметром $T$ и преобразует вероятности следующим образом: $p_i = \\frac{p_i^{1/T}}{\\sum_j p_j^{1/T}}$ .\n",
    "\n",
    "Проведите эксперименты с разными значениями $T \\in [0.5, 1, 2]$. Как разные значения $T$ влияют на генерируемые строки?"
   ]
  },
  {
   "cell_type": "markdown",
   "metadata": {},
   "source": [
    "### Задание 11"
   ]
  },
  {
   "cell_type": "markdown",
   "metadata": {},
   "source": [
    "Реализуйте beam search для генерации строк."
   ]
  },
  {
   "cell_type": "code",
   "execution_count": null,
   "metadata": {},
   "outputs": [],
   "source": []
  }
 ],
 "metadata": {
  "anaconda-cloud": {},
  "kernelspec": {
   "display_name": "Python 3",
   "language": "python",
   "name": "python3"
  },
  "language_info": {
   "codemirror_mode": {
    "name": "ipython",
    "version": 3
   },
   "file_extension": ".py",
   "mimetype": "text/x-python",
   "name": "python",
   "nbconvert_exporter": "python",
   "pygments_lexer": "ipython3",
   "version": "3.6.1"
  }
 },
 "nbformat": 4,
 "nbformat_minor": 1
}
